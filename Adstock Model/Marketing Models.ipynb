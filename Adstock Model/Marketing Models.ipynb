{
  "nbformat": 4,
  "nbformat_minor": 0,
  "metadata": {
    "colab": {
      "name": "Asst3.ipynb",
      "provenance": [],
      "collapsed_sections": [],
      "machine_shape": "hm"
    },
    "kernelspec": {
      "name": "python3",
      "display_name": "Python 3"
    },
    "accelerator": "GPU"
  },
  "cells": [
    {
      "cell_type": "markdown",
      "metadata": {
        "id": "6V1Z-IgF7WpO",
        "colab_type": "text"
      },
      "source": [
        "### Import Libraries"
      ]
    },
    {
      "cell_type": "code",
      "metadata": {
        "id": "2Sec31Sgp_-f",
        "colab_type": "code",
        "outputId": "a1961aae-c928-45c9-ded0-9ab6c33a5ef9",
        "colab": {
          "base_uri": "https://localhost:8080/",
          "height": 81
        }
      },
      "source": [
        "import pandas as pd\n",
        "import matplotlib.pyplot as plt \n",
        "import numpy as np\n",
        "\n",
        "from sklearn.utils import resample\n",
        "from sklearn.preprocessing import MinMaxScaler\n",
        "from sklearn.model_selection import train_test_split\n",
        "\n",
        "import keras\n",
        "\n",
        "plt.style.use('ggplot')"
      ],
      "execution_count": 1,
      "outputs": [
        {
          "output_type": "stream",
          "text": [
            "Using TensorFlow backend.\n"
          ],
          "name": "stderr"
        },
        {
          "output_type": "display_data",
          "data": {
            "text/html": [
              "<p style=\"color: red;\">\n",
              "The default version of TensorFlow in Colab will soon switch to TensorFlow 2.x.<br>\n",
              "We recommend you <a href=\"https://www.tensorflow.org/guide/migrate\" target=\"_blank\">upgrade</a> now \n",
              "or ensure your notebook will continue to use TensorFlow 1.x via the <code>%tensorflow_version 1.x</code> magic:\n",
              "<a href=\"https://colab.research.google.com/notebooks/tensorflow_version.ipynb\" target=\"_blank\">more info</a>.</p>\n"
            ],
            "text/plain": [
              "<IPython.core.display.HTML object>"
            ]
          },
          "metadata": {
            "tags": []
          }
        }
      ]
    },
    {
      "cell_type": "markdown",
      "metadata": {
        "id": "sjtTZ3G57CS6",
        "colab_type": "text"
      },
      "source": [
        "### Main Function to create Data Frame"
      ]
    },
    {
      "cell_type": "code",
      "metadata": {
        "id": "OmcdmcK1q8HW",
        "colab_type": "code",
        "outputId": "3a7e3c4f-1504-4f90-9652-94cda073afb0",
        "colab": {
          "base_uri": "https://localhost:8080/",
          "height": 52
        }
      },
      "source": [
        "# Initial data preparation\n",
        "\n",
        "def add_derived_columns(df):\n",
        "    df_ext = df.copy()\n",
        "    df_ext['jid'] = df_ext['uid'].map(str) + '_' + df_ext['conversion_id'].map(str)\n",
        "    \n",
        "    min_max_scaler = MinMaxScaler()\n",
        "    for cname in ('timestamp', 'time_since_last_click'):\n",
        "        x = df_ext[cname].values.reshape(-1, 1) \n",
        "        df_ext[cname + '_norm'] = min_max_scaler.fit_transform(x)\n",
        "    \n",
        "    return df_ext\n",
        "\n",
        "def filter_journeys_by_length(df, min_touchpoints):\n",
        "    if min_touchpoints <= 1:\n",
        "        return df\n",
        "    else:\n",
        "        grouped = df.groupby(['jid'])['uid'].count().reset_index(name=\"count\")\n",
        "        return df[df['jid'].isin( grouped[grouped['count'] >= min_touchpoints]['jid'].values )]\n",
        "\n",
        "def sample_campaigns(df, n_campaigns):    \n",
        "    campaigns = np.random.choice( df['campaign'].unique(), n_campaigns, replace = False )\n",
        "    return df[ df['campaign'].isin(campaigns) ]\n",
        "\n",
        "def balance_conversions(df):\n",
        "    df_minority = df[df.conversion == 1]\n",
        "    df_majority = df[df.conversion == 0]\n",
        "    \n",
        "    df_majority_jids = np.array_split(df_majority['jid'].unique(), 100 * df_majority.shape[0]/df_minority.shape[0] )\n",
        "\n",
        "    df_majority_sampled = pd.DataFrame(data=None, columns=df.columns)\n",
        "    for jid_chunk in df_majority_jids:\n",
        "        df_majority_sampled = pd.concat([df_majority_sampled, df_majority[df_majority.jid.isin(jid_chunk)]])\n",
        "        if df_majority_sampled.shape[0] > df_minority.shape[0]:\n",
        "            break\n",
        "    \n",
        "    return pd.concat([df_majority_sampled, df_minority]).sample(frac=1).reset_index(drop=True)\n",
        "\n",
        "def map_one_hot(df, column_names, result_column_name):\n",
        "    mapper = {} \n",
        "    for i, col_name in enumerate(column_names):\n",
        "        for val in df[col_name].unique():\n",
        "            mapper[str(val) + str(i)] = len(mapper)\n",
        "         \n",
        "    df_ext = df.copy()\n",
        "    \n",
        "    def one_hot(values):\n",
        "        v = np.zeros( len(mapper) )\n",
        "        for i, val in enumerate(values): \n",
        "            v[ mapper[str(val) + str(i)] ] = 1\n",
        "        return v    \n",
        "    \n",
        "    df_ext[result_column_name] = df_ext[column_names].values.tolist()\n",
        "    df_ext[result_column_name] = df_ext[result_column_name].map(one_hot)\n",
        "    \n",
        "    return df_ext\n",
        "    \n",
        "data_file = '/content/drive/My Drive/ADM_Asst3/criteo_attribution_dataset.tsv.gz'\n",
        "df0 = pd.read_csv(data_file, sep='\\t', compression='gzip')\n",
        "\n",
        "n_campaigns = 400\n",
        "\n",
        "df1 = add_derived_columns(df0)\n",
        "df2 = sample_campaigns(df1, n_campaigns)\n",
        "df3 = filter_journeys_by_length(df2, 2)\n",
        "df4 = balance_conversions(df3)\n",
        "df5 = map_one_hot(df4, ['cat1', 'cat2', 'cat3', 'cat4', 'cat5', 'cat6', 'cat8'], 'cats')\n",
        "df6 = map_one_hot(df5, ['campaign'], 'campaigns').sort_values(by=['timestamp_norm'])\n",
        "\n",
        "print(df6.shape[0])\n",
        "print([df6[df6.conversion == 0].shape[0], df6[df6.conversion == 1].shape[0]])"
      ],
      "execution_count": 2,
      "outputs": [
        {
          "output_type": "stream",
          "text": [
            "633450\n",
            "[316893, 316557]\n"
          ],
          "name": "stdout"
        }
      ]
    },
    {
      "cell_type": "markdown",
      "metadata": {
        "id": "zKAgfpi67G_X",
        "colab_type": "text"
      },
      "source": [
        "### First Touch Attribute\n",
        "\n",
        "This model gives full sales credit to the first marketing touchpoint interacted with before conversion."
      ]
    },
    {
      "cell_type": "code",
      "metadata": {
        "id": "TsycClAp0HLp",
        "colab_type": "code",
        "colab": {}
      },
      "source": [
        "def first_touch_attribution(df):\n",
        "    \n",
        "    def count_by_campaign(df):\n",
        "        counters = np.zeros(n_campaigns)\n",
        "        for campaign_one_hot in df['campaigns'].values:\n",
        "            campaign_id = np.argmax(campaign_one_hot)\n",
        "            counters[campaign_id] = counters[campaign_id] + 1\n",
        "        return counters\n",
        "        \n",
        "    campaign_impressions = count_by_campaign(df)\n",
        "    \n",
        "    df_converted = df[df['conversion'] == 1]\n",
        "    idx = df_converted.groupby(['uid'])['timestamp_norm'].transform(min) == df_converted['timestamp_norm']\n",
        "    campaign_conversions = count_by_campaign(df_converted[idx])\n",
        "        \n",
        "    return campaign_conversions / campaign_impressions\n",
        "    \n",
        "fta = first_touch_attribution(df6)"
      ],
      "execution_count": 0,
      "outputs": []
    },
    {
      "cell_type": "code",
      "metadata": {
        "id": "2PYgT1PP0MuP",
        "colab_type": "code",
        "colab": {
          "base_uri": "https://localhost:8080/",
          "height": 282
        },
        "outputId": "aea91452-a0b2-4bed-9f11-e4c0b4b4b746"
      },
      "source": [
        "# Visualization of the attribution scores\n",
        "\n",
        "campaign_idx = range(1,50)\n",
        "\n",
        "fig = plt.figure(figsize=(15,4))\n",
        "ax = fig.add_subplot(111)\n",
        "plt.bar( range(len(fta[campaign_idx])), fta[campaign_idx], label='FTA' )\n",
        "plt.xlabel('Campaign ID')\n",
        "plt.ylabel('Return per impression')\n",
        "plt.legend(loc='upper left')\n",
        "plt.show()"
      ],
      "execution_count": 4,
      "outputs": [
        {
          "output_type": "display_data",
          "data": {
            "image/png": "[encoded data removed]",
            "text/plain": [
              "<Figure size 1080x288 with 1 Axes>"
            ]
          },
          "metadata": {
            "tags": []
          }
        }
      ]
    },
    {
      "cell_type": "markdown",
      "metadata": {
        "id": "BPkz1AtwexAM",
        "colab_type": "text"
      },
      "source": [
        "### Linear Attribute\n",
        "\n",
        "\n",
        "This gives each touchpoint across the buyer journey the same amount of credit toward driving a sale."
      ]
    },
    {
      "cell_type": "code",
      "metadata": {
        "id": "Ii9BYqYOYpvN",
        "colab_type": "code",
        "colab": {}
      },
      "source": [
        "id_count = df6.groupby(['uid'])['campaign'].count()"
      ],
      "execution_count": 0,
      "outputs": []
    },
    {
      "cell_type": "code",
      "metadata": {
        "id": "-wFBj6agZDrM",
        "colab_type": "code",
        "colab": {}
      },
      "source": [
        "df_id_count = pd.DataFrame(id_count.reset_index())"
      ],
      "execution_count": 0,
      "outputs": []
    },
    {
      "cell_type": "code",
      "metadata": {
        "id": "-ptXheUXdxXY",
        "colab_type": "code",
        "outputId": "ae958cb4-6c59-44e9-eebb-14ad85927cc5",
        "colab": {
          "base_uri": "https://localhost:8080/",
          "height": 35
        }
      },
      "source": [
        "df_id_count.columns"
      ],
      "execution_count": 7,
      "outputs": [
        {
          "output_type": "execute_result",
          "data": {
            "text/plain": [
              "Index(['uid', 'campaign'], dtype='object')"
            ]
          },
          "metadata": {
            "tags": []
          },
          "execution_count": 7
        }
      ]
    },
    {
      "cell_type": "code",
      "metadata": {
        "id": "b90Kl-qGe4Ic",
        "colab_type": "code",
        "colab": {}
      },
      "source": [
        "df_id_count = df_id_count.rename(columns={\"campaign\":\"campaign_count\"})"
      ],
      "execution_count": 0,
      "outputs": []
    },
    {
      "cell_type": "code",
      "metadata": {
        "id": "ECdrTpJOfItY",
        "colab_type": "code",
        "outputId": "f38afa40-cf85-4e89-f1d7-b7778c869bf1",
        "colab": {
          "base_uri": "https://localhost:8080/",
          "height": 202
        }
      },
      "source": [
        "df_id_count.head()"
      ],
      "execution_count": 9,
      "outputs": [
        {
          "output_type": "execute_result",
          "data": {
            "text/html": [
              "<div>\n",
              "<style scoped>\n",
              "    .dataframe tbody tr th:only-of-type {\n",
              "        vertical-align: middle;\n",
              "    }\n",
              "\n",
              "    .dataframe tbody tr th {\n",
              "        vertical-align: top;\n",
              "    }\n",
              "\n",
              "    .dataframe thead th {\n",
              "        text-align: right;\n",
              "    }\n",
              "</style>\n",
              "<table border=\"1\" class=\"dataframe\">\n",
              "  <thead>\n",
              "    <tr style=\"text-align: right;\">\n",
              "      <th></th>\n",
              "      <th>uid</th>\n",
              "      <th>campaign_count</th>\n",
              "    </tr>\n",
              "  </thead>\n",
              "  <tbody>\n",
              "    <tr>\n",
              "      <th>0</th>\n",
              "      <td>601</td>\n",
              "      <td>3</td>\n",
              "    </tr>\n",
              "    <tr>\n",
              "      <th>1</th>\n",
              "      <td>656</td>\n",
              "      <td>3</td>\n",
              "    </tr>\n",
              "    <tr>\n",
              "      <th>2</th>\n",
              "      <td>889</td>\n",
              "      <td>9</td>\n",
              "    </tr>\n",
              "    <tr>\n",
              "      <th>3</th>\n",
              "      <td>999</td>\n",
              "      <td>3</td>\n",
              "    </tr>\n",
              "    <tr>\n",
              "      <th>4</th>\n",
              "      <td>1827</td>\n",
              "      <td>2</td>\n",
              "    </tr>\n",
              "  </tbody>\n",
              "</table>\n",
              "</div>"
            ],
            "text/plain": [
              "    uid  campaign_count\n",
              "0   601               3\n",
              "1   656               3\n",
              "2   889               9\n",
              "3   999               3\n",
              "4  1827               2"
            ]
          },
          "metadata": {
            "tags": []
          },
          "execution_count": 9
        }
      ]
    },
    {
      "cell_type": "code",
      "metadata": {
        "id": "oz_EsPiychI5",
        "colab_type": "code",
        "colab": {}
      },
      "source": [
        "df_conv_user = df6[df6['conversion'] ==1]"
      ],
      "execution_count": 0,
      "outputs": []
    },
    {
      "cell_type": "code",
      "metadata": {
        "id": "GXiiyqXhcs6B",
        "colab_type": "code",
        "colab": {}
      },
      "source": [
        "df_conv_user = df_conv_user.sort_values('uid')"
      ],
      "execution_count": 0,
      "outputs": []
    },
    {
      "cell_type": "code",
      "metadata": {
        "id": "RX7k6JQhdByV",
        "colab_type": "code",
        "outputId": "346ec9c5-231a-4771-8bcb-f6141dc9b13b",
        "colab": {
          "base_uri": "https://localhost:8080/",
          "height": 35
        }
      },
      "source": [
        "df_conv_user.shape[0]"
      ],
      "execution_count": 12,
      "outputs": [
        {
          "output_type": "execute_result",
          "data": {
            "text/plain": [
              "316557"
            ]
          },
          "metadata": {
            "tags": []
          },
          "execution_count": 12
        }
      ]
    },
    {
      "cell_type": "code",
      "metadata": {
        "id": "VZ6vWwUBePqR",
        "colab_type": "code",
        "colab": {}
      },
      "source": [
        "df_merge = df_conv_user.merge(df_id_count, on = ['uid'], how = 'left')"
      ],
      "execution_count": 0,
      "outputs": []
    },
    {
      "cell_type": "code",
      "metadata": {
        "id": "phJ_1_7Feaq_",
        "colab_type": "code",
        "outputId": "ae329f5f-503e-4cc6-f2f1-7b97a8c4202e",
        "colab": {
          "base_uri": "https://localhost:8080/",
          "height": 1000
        }
      },
      "source": [
        "df_merge"
      ],
      "execution_count": 14,
      "outputs": [
        {
          "output_type": "execute_result",
          "data": {
            "text/html": [
              "<div>\n",
              "<style scoped>\n",
              "    .dataframe tbody tr th:only-of-type {\n",
              "        vertical-align: middle;\n",
              "    }\n",
              "\n",
              "    .dataframe tbody tr th {\n",
              "        vertical-align: top;\n",
              "    }\n",
              "\n",
              "    .dataframe thead th {\n",
              "        text-align: right;\n",
              "    }\n",
              "</style>\n",
              "<table border=\"1\" class=\"dataframe\">\n",
              "  <thead>\n",
              "    <tr style=\"text-align: right;\">\n",
              "      <th></th>\n",
              "      <th>timestamp</th>\n",
              "      <th>uid</th>\n",
              "      <th>campaign</th>\n",
              "      <th>conversion</th>\n",
              "      <th>conversion_timestamp</th>\n",
              "      <th>conversion_id</th>\n",
              "      <th>attribution</th>\n",
              "      <th>click</th>\n",
              "      <th>click_pos</th>\n",
              "      <th>click_nb</th>\n",
              "      <th>cost</th>\n",
              "      <th>cpo</th>\n",
              "      <th>time_since_last_click</th>\n",
              "      <th>cat1</th>\n",
              "      <th>cat2</th>\n",
              "      <th>cat3</th>\n",
              "      <th>cat4</th>\n",
              "      <th>cat5</th>\n",
              "      <th>cat6</th>\n",
              "      <th>cat7</th>\n",
              "      <th>cat8</th>\n",
              "      <th>cat9</th>\n",
              "      <th>jid</th>\n",
              "      <th>timestamp_norm</th>\n",
              "      <th>time_since_last_click_norm</th>\n",
              "      <th>cats</th>\n",
              "      <th>campaigns</th>\n",
              "      <th>campaign_count</th>\n",
              "    </tr>\n",
              "  </thead>\n",
              "  <tbody>\n",
              "    <tr>\n",
              "      <th>0</th>\n",
              "      <td>554012</td>\n",
              "      <td>656</td>\n",
              "      <td>27777499</td>\n",
              "      <td>1</td>\n",
              "      <td>718877</td>\n",
              "      <td>26044415</td>\n",
              "      <td>0</td>\n",
              "      <td>1</td>\n",
              "      <td>2</td>\n",
              "      <td>3</td>\n",
              "      <td>0.000168</td>\n",
              "      <td>0.095338</td>\n",
              "      <td>79309</td>\n",
              "      <td>27093701</td>\n",
              "      <td>9312274</td>\n",
              "      <td>21372185</td>\n",
              "      <td>29196072</td>\n",
              "      <td>11409686</td>\n",
              "      <td>3808271</td>\n",
              "      <td>20246687</td>\n",
              "      <td>29196072</td>\n",
              "      <td>29520629</td>\n",
              "      <td>656_26044415</td>\n",
              "      <td>0.207402</td>\n",
              "      <td>0.030598</td>\n",
              "      <td>[0.0, 0.0, 0.0, 0.0, 0.0, 0.0, 1.0, 0.0, 0.0, ...</td>\n",
              "      <td>[0.0, 0.0, 0.0, 0.0, 0.0, 0.0, 0.0, 0.0, 0.0, ...</td>\n",
              "      <td>3</td>\n",
              "    </tr>\n",
              "    <tr>\n",
              "      <th>1</th>\n",
              "      <td>474703</td>\n",
              "      <td>656</td>\n",
              "      <td>27777499</td>\n",
              "      <td>1</td>\n",
              "      <td>718877</td>\n",
              "      <td>26044415</td>\n",
              "      <td>0</td>\n",
              "      <td>1</td>\n",
              "      <td>1</td>\n",
              "      <td>3</td>\n",
              "      <td>0.000314</td>\n",
              "      <td>0.095220</td>\n",
              "      <td>429000</td>\n",
              "      <td>27093701</td>\n",
              "      <td>9312274</td>\n",
              "      <td>21372185</td>\n",
              "      <td>30054645</td>\n",
              "      <td>11409686</td>\n",
              "      <td>5824238</td>\n",
              "      <td>27512348</td>\n",
              "      <td>29196072</td>\n",
              "      <td>21091111</td>\n",
              "      <td>656_26044415</td>\n",
              "      <td>0.177712</td>\n",
              "      <td>0.165510</td>\n",
              "      <td>[0.0, 0.0, 0.0, 0.0, 0.0, 0.0, 1.0, 0.0, 0.0, ...</td>\n",
              "      <td>[0.0, 0.0, 0.0, 0.0, 0.0, 0.0, 0.0, 0.0, 0.0, ...</td>\n",
              "      <td>3</td>\n",
              "    </tr>\n",
              "    <tr>\n",
              "      <th>2</th>\n",
              "      <td>45703</td>\n",
              "      <td>656</td>\n",
              "      <td>27777499</td>\n",
              "      <td>1</td>\n",
              "      <td>718877</td>\n",
              "      <td>26044415</td>\n",
              "      <td>0</td>\n",
              "      <td>1</td>\n",
              "      <td>0</td>\n",
              "      <td>3</td>\n",
              "      <td>0.000334</td>\n",
              "      <td>0.075868</td>\n",
              "      <td>202860</td>\n",
              "      <td>27093701</td>\n",
              "      <td>9312274</td>\n",
              "      <td>21372185</td>\n",
              "      <td>23549932</td>\n",
              "      <td>11409686</td>\n",
              "      <td>32440041</td>\n",
              "      <td>27277949</td>\n",
              "      <td>29196072</td>\n",
              "      <td>21091108</td>\n",
              "      <td>656_26044415</td>\n",
              "      <td>0.017110</td>\n",
              "      <td>0.078264</td>\n",
              "      <td>[0.0, 0.0, 0.0, 0.0, 0.0, 0.0, 1.0, 0.0, 0.0, ...</td>\n",
              "      <td>[0.0, 0.0, 0.0, 0.0, 0.0, 0.0, 0.0, 0.0, 0.0, ...</td>\n",
              "      <td>3</td>\n",
              "    </tr>\n",
              "    <tr>\n",
              "      <th>3</th>\n",
              "      <td>1617199</td>\n",
              "      <td>999</td>\n",
              "      <td>5061834</td>\n",
              "      <td>1</td>\n",
              "      <td>4103933</td>\n",
              "      <td>14996161</td>\n",
              "      <td>0</td>\n",
              "      <td>1</td>\n",
              "      <td>0</td>\n",
              "      <td>4</td>\n",
              "      <td>0.001932</td>\n",
              "      <td>0.287987</td>\n",
              "      <td>-1</td>\n",
              "      <td>30763035</td>\n",
              "      <td>9312274</td>\n",
              "      <td>28944165</td>\n",
              "      <td>29196072</td>\n",
              "      <td>26611392</td>\n",
              "      <td>29196072</td>\n",
              "      <td>5642940</td>\n",
              "      <td>29196072</td>\n",
              "      <td>29196072</td>\n",
              "      <td>999_14996161</td>\n",
              "      <td>0.605421</td>\n",
              "      <td>0.000000</td>\n",
              "      <td>[1.0, 0.0, 0.0, 0.0, 0.0, 0.0, 0.0, 0.0, 0.0, ...</td>\n",
              "      <td>[0.0, 0.0, 0.0, 0.0, 0.0, 0.0, 0.0, 0.0, 0.0, ...</td>\n",
              "      <td>3</td>\n",
              "    </tr>\n",
              "    <tr>\n",
              "      <th>4</th>\n",
              "      <td>2143779</td>\n",
              "      <td>999</td>\n",
              "      <td>5061834</td>\n",
              "      <td>1</td>\n",
              "      <td>4103933</td>\n",
              "      <td>14996161</td>\n",
              "      <td>0</td>\n",
              "      <td>1</td>\n",
              "      <td>2</td>\n",
              "      <td>4</td>\n",
              "      <td>0.001035</td>\n",
              "      <td>0.310221</td>\n",
              "      <td>8415</td>\n",
              "      <td>30763035</td>\n",
              "      <td>9312274</td>\n",
              "      <td>28944165</td>\n",
              "      <td>29196072</td>\n",
              "      <td>26611392</td>\n",
              "      <td>29196072</td>\n",
              "      <td>5642940</td>\n",
              "      <td>29196072</td>\n",
              "      <td>15351056</td>\n",
              "      <td>999_14996161</td>\n",
              "      <td>0.802553</td>\n",
              "      <td>0.003247</td>\n",
              "      <td>[1.0, 0.0, 0.0, 0.0, 0.0, 0.0, 0.0, 0.0, 0.0, ...</td>\n",
              "      <td>[0.0, 0.0, 0.0, 0.0, 0.0, 0.0, 0.0, 0.0, 0.0, ...</td>\n",
              "      <td>3</td>\n",
              "    </tr>\n",
              "    <tr>\n",
              "      <th>...</th>\n",
              "      <td>...</td>\n",
              "      <td>...</td>\n",
              "      <td>...</td>\n",
              "      <td>...</td>\n",
              "      <td>...</td>\n",
              "      <td>...</td>\n",
              "      <td>...</td>\n",
              "      <td>...</td>\n",
              "      <td>...</td>\n",
              "      <td>...</td>\n",
              "      <td>...</td>\n",
              "      <td>...</td>\n",
              "      <td>...</td>\n",
              "      <td>...</td>\n",
              "      <td>...</td>\n",
              "      <td>...</td>\n",
              "      <td>...</td>\n",
              "      <td>...</td>\n",
              "      <td>...</td>\n",
              "      <td>...</td>\n",
              "      <td>...</td>\n",
              "      <td>...</td>\n",
              "      <td>...</td>\n",
              "      <td>...</td>\n",
              "      <td>...</td>\n",
              "      <td>...</td>\n",
              "      <td>...</td>\n",
              "      <td>...</td>\n",
              "    </tr>\n",
              "    <tr>\n",
              "      <th>316552</th>\n",
              "      <td>24327</td>\n",
              "      <td>32458202</td>\n",
              "      <td>2576437</td>\n",
              "      <td>1</td>\n",
              "      <td>625696</td>\n",
              "      <td>26332147</td>\n",
              "      <td>0</td>\n",
              "      <td>1</td>\n",
              "      <td>12</td>\n",
              "      <td>17</td>\n",
              "      <td>0.000223</td>\n",
              "      <td>0.098605</td>\n",
              "      <td>131793</td>\n",
              "      <td>30763035</td>\n",
              "      <td>5642940</td>\n",
              "      <td>30345721</td>\n",
              "      <td>29196072</td>\n",
              "      <td>32440044</td>\n",
              "      <td>1973606</td>\n",
              "      <td>23932668</td>\n",
              "      <td>26597096</td>\n",
              "      <td>29520626</td>\n",
              "      <td>32458202_26332147</td>\n",
              "      <td>0.009107</td>\n",
              "      <td>0.050846</td>\n",
              "      <td>[1.0, 0.0, 0.0, 0.0, 0.0, 0.0, 0.0, 0.0, 0.0, ...</td>\n",
              "      <td>[0.0, 0.0, 0.0, 0.0, 0.0, 0.0, 0.0, 0.0, 0.0, ...</td>\n",
              "      <td>5</td>\n",
              "    </tr>\n",
              "    <tr>\n",
              "      <th>316553</th>\n",
              "      <td>497632</td>\n",
              "      <td>32458202</td>\n",
              "      <td>2576437</td>\n",
              "      <td>1</td>\n",
              "      <td>625696</td>\n",
              "      <td>26332147</td>\n",
              "      <td>0</td>\n",
              "      <td>1</td>\n",
              "      <td>16</td>\n",
              "      <td>17</td>\n",
              "      <td>0.001277</td>\n",
              "      <td>0.114174</td>\n",
              "      <td>42851</td>\n",
              "      <td>30763035</td>\n",
              "      <td>5642940</td>\n",
              "      <td>30345721</td>\n",
              "      <td>29196072</td>\n",
              "      <td>32440044</td>\n",
              "      <td>1973606</td>\n",
              "      <td>3698652</td>\n",
              "      <td>29196072</td>\n",
              "      <td>9491354</td>\n",
              "      <td>32458202_26332147</td>\n",
              "      <td>0.186295</td>\n",
              "      <td>0.016532</td>\n",
              "      <td>[1.0, 0.0, 0.0, 0.0, 0.0, 0.0, 0.0, 0.0, 0.0, ...</td>\n",
              "      <td>[0.0, 0.0, 0.0, 0.0, 0.0, 0.0, 0.0, 0.0, 0.0, ...</td>\n",
              "      <td>5</td>\n",
              "    </tr>\n",
              "    <tr>\n",
              "      <th>316554</th>\n",
              "      <td>454781</td>\n",
              "      <td>32458202</td>\n",
              "      <td>2576437</td>\n",
              "      <td>1</td>\n",
              "      <td>625696</td>\n",
              "      <td>26332147</td>\n",
              "      <td>0</td>\n",
              "      <td>1</td>\n",
              "      <td>15</td>\n",
              "      <td>17</td>\n",
              "      <td>0.000628</td>\n",
              "      <td>0.102350</td>\n",
              "      <td>388847</td>\n",
              "      <td>30763035</td>\n",
              "      <td>5642940</td>\n",
              "      <td>30345721</td>\n",
              "      <td>29196072</td>\n",
              "      <td>32440044</td>\n",
              "      <td>1973606</td>\n",
              "      <td>3698652</td>\n",
              "      <td>20754144</td>\n",
              "      <td>21091111</td>\n",
              "      <td>32458202_26332147</td>\n",
              "      <td>0.170254</td>\n",
              "      <td>0.150018</td>\n",
              "      <td>[1.0, 0.0, 0.0, 0.0, 0.0, 0.0, 0.0, 0.0, 0.0, ...</td>\n",
              "      <td>[0.0, 0.0, 0.0, 0.0, 0.0, 0.0, 0.0, 0.0, 0.0, ...</td>\n",
              "      <td>5</td>\n",
              "    </tr>\n",
              "    <tr>\n",
              "      <th>316555</th>\n",
              "      <td>1078474</td>\n",
              "      <td>32458592</td>\n",
              "      <td>8287704</td>\n",
              "      <td>1</td>\n",
              "      <td>1240667</td>\n",
              "      <td>16312783</td>\n",
              "      <td>1</td>\n",
              "      <td>1</td>\n",
              "      <td>0</td>\n",
              "      <td>2</td>\n",
              "      <td>0.000022</td>\n",
              "      <td>0.149125</td>\n",
              "      <td>-1</td>\n",
              "      <td>25259032</td>\n",
              "      <td>9312274</td>\n",
              "      <td>28538391</td>\n",
              "      <td>29196072</td>\n",
              "      <td>11409686</td>\n",
              "      <td>1973606</td>\n",
              "      <td>9312274</td>\n",
              "      <td>20754144</td>\n",
              "      <td>29196072</td>\n",
              "      <td>32458592_16312783</td>\n",
              "      <td>0.403742</td>\n",
              "      <td>0.000000</td>\n",
              "      <td>[0.0, 0.0, 0.0, 0.0, 1.0, 0.0, 0.0, 0.0, 0.0, ...</td>\n",
              "      <td>[0.0, 0.0, 0.0, 0.0, 0.0, 0.0, 0.0, 0.0, 0.0, ...</td>\n",
              "      <td>2</td>\n",
              "    </tr>\n",
              "    <tr>\n",
              "      <th>316556</th>\n",
              "      <td>1078559</td>\n",
              "      <td>32458592</td>\n",
              "      <td>8287704</td>\n",
              "      <td>1</td>\n",
              "      <td>1240667</td>\n",
              "      <td>16312783</td>\n",
              "      <td>1</td>\n",
              "      <td>1</td>\n",
              "      <td>1</td>\n",
              "      <td>2</td>\n",
              "      <td>0.000111</td>\n",
              "      <td>0.149125</td>\n",
              "      <td>85</td>\n",
              "      <td>25259032</td>\n",
              "      <td>9312274</td>\n",
              "      <td>28538391</td>\n",
              "      <td>29196072</td>\n",
              "      <td>11409686</td>\n",
              "      <td>1973606</td>\n",
              "      <td>9312274</td>\n",
              "      <td>3225256</td>\n",
              "      <td>22419795</td>\n",
              "      <td>32458592_16312783</td>\n",
              "      <td>0.403773</td>\n",
              "      <td>0.000033</td>\n",
              "      <td>[0.0, 0.0, 0.0, 0.0, 1.0, 0.0, 0.0, 0.0, 0.0, ...</td>\n",
              "      <td>[0.0, 0.0, 0.0, 0.0, 0.0, 0.0, 0.0, 0.0, 0.0, ...</td>\n",
              "      <td>2</td>\n",
              "    </tr>\n",
              "  </tbody>\n",
              "</table>\n",
              "<p>316557 rows × 28 columns</p>\n",
              "</div>"
            ],
            "text/plain": [
              "       timestamp  ... campaign_count\n",
              "0         554012  ...              3\n",
              "1         474703  ...              3\n",
              "2          45703  ...              3\n",
              "3        1617199  ...              3\n",
              "4        2143779  ...              3\n",
              "...          ...  ...            ...\n",
              "316552     24327  ...              5\n",
              "316553    497632  ...              5\n",
              "316554    454781  ...              5\n",
              "316555   1078474  ...              2\n",
              "316556   1078559  ...              2\n",
              "\n",
              "[316557 rows x 28 columns]"
            ]
          },
          "metadata": {
            "tags": []
          },
          "execution_count": 14
        }
      ]
    },
    {
      "cell_type": "code",
      "metadata": {
        "id": "iCNzRIR9gLzs",
        "colab_type": "code",
        "outputId": "fa3ecaa4-f087-4ccc-80ae-892534b37800",
        "colab": {
          "base_uri": "https://localhost:8080/",
          "height": 121
        }
      },
      "source": [
        "df_merge.columns"
      ],
      "execution_count": 15,
      "outputs": [
        {
          "output_type": "execute_result",
          "data": {
            "text/plain": [
              "Index(['timestamp', 'uid', 'campaign', 'conversion', 'conversion_timestamp',\n",
              "       'conversion_id', 'attribution', 'click', 'click_pos', 'click_nb',\n",
              "       'cost', 'cpo', 'time_since_last_click', 'cat1', 'cat2', 'cat3', 'cat4',\n",
              "       'cat5', 'cat6', 'cat7', 'cat8', 'cat9', 'jid', 'timestamp_norm',\n",
              "       'time_since_last_click_norm', 'cats', 'campaigns', 'campaign_count'],\n",
              "      dtype='object')"
            ]
          },
          "metadata": {
            "tags": []
          },
          "execution_count": 15
        }
      ]
    },
    {
      "cell_type": "code",
      "metadata": {
        "id": "NrMzIzGdfhQy",
        "colab_type": "code",
        "colab": {}
      },
      "source": [
        "camp_prob = []"
      ],
      "execution_count": 0,
      "outputs": []
    },
    {
      "cell_type": "code",
      "metadata": {
        "id": "enw5_19sczuE",
        "colab_type": "code",
        "colab": {}
      },
      "source": [
        "for index , row in df_merge.iterrows():\n",
        "  camp_prob.append(1/row['campaign_count'])\n",
        "\n",
        "df_merge['campaign_probability'] =   camp_prob"
      ],
      "execution_count": 0,
      "outputs": []
    },
    {
      "cell_type": "code",
      "metadata": {
        "id": "sflDEV8SgdEx",
        "colab_type": "code",
        "outputId": "09b65093-61ad-4507-8dec-604e6186a75d",
        "colab": {
          "base_uri": "https://localhost:8080/",
          "height": 1000
        }
      },
      "source": [
        "df_merge"
      ],
      "execution_count": 18,
      "outputs": [
        {
          "output_type": "execute_result",
          "data": {
            "text/html": [
              "<div>\n",
              "<style scoped>\n",
              "    .dataframe tbody tr th:only-of-type {\n",
              "        vertical-align: middle;\n",
              "    }\n",
              "\n",
              "    .dataframe tbody tr th {\n",
              "        vertical-align: top;\n",
              "    }\n",
              "\n",
              "    .dataframe thead th {\n",
              "        text-align: right;\n",
              "    }\n",
              "</style>\n",
              "<table border=\"1\" class=\"dataframe\">\n",
              "  <thead>\n",
              "    <tr style=\"text-align: right;\">\n",
              "      <th></th>\n",
              "      <th>timestamp</th>\n",
              "      <th>uid</th>\n",
              "      <th>campaign</th>\n",
              "      <th>conversion</th>\n",
              "      <th>conversion_timestamp</th>\n",
              "      <th>conversion_id</th>\n",
              "      <th>attribution</th>\n",
              "      <th>click</th>\n",
              "      <th>click_pos</th>\n",
              "      <th>click_nb</th>\n",
              "      <th>cost</th>\n",
              "      <th>cpo</th>\n",
              "      <th>time_since_last_click</th>\n",
              "      <th>cat1</th>\n",
              "      <th>cat2</th>\n",
              "      <th>cat3</th>\n",
              "      <th>cat4</th>\n",
              "      <th>cat5</th>\n",
              "      <th>cat6</th>\n",
              "      <th>cat7</th>\n",
              "      <th>cat8</th>\n",
              "      <th>cat9</th>\n",
              "      <th>jid</th>\n",
              "      <th>timestamp_norm</th>\n",
              "      <th>time_since_last_click_norm</th>\n",
              "      <th>cats</th>\n",
              "      <th>campaigns</th>\n",
              "      <th>campaign_count</th>\n",
              "      <th>campaign_probability</th>\n",
              "    </tr>\n",
              "  </thead>\n",
              "  <tbody>\n",
              "    <tr>\n",
              "      <th>0</th>\n",
              "      <td>554012</td>\n",
              "      <td>656</td>\n",
              "      <td>27777499</td>\n",
              "      <td>1</td>\n",
              "      <td>718877</td>\n",
              "      <td>26044415</td>\n",
              "      <td>0</td>\n",
              "      <td>1</td>\n",
              "      <td>2</td>\n",
              "      <td>3</td>\n",
              "      <td>0.000168</td>\n",
              "      <td>0.095338</td>\n",
              "      <td>79309</td>\n",
              "      <td>27093701</td>\n",
              "      <td>9312274</td>\n",
              "      <td>21372185</td>\n",
              "      <td>29196072</td>\n",
              "      <td>11409686</td>\n",
              "      <td>3808271</td>\n",
              "      <td>20246687</td>\n",
              "      <td>29196072</td>\n",
              "      <td>29520629</td>\n",
              "      <td>656_26044415</td>\n",
              "      <td>0.207402</td>\n",
              "      <td>0.030598</td>\n",
              "      <td>[0.0, 0.0, 0.0, 0.0, 0.0, 0.0, 1.0, 0.0, 0.0, ...</td>\n",
              "      <td>[0.0, 0.0, 0.0, 0.0, 0.0, 0.0, 0.0, 0.0, 0.0, ...</td>\n",
              "      <td>3</td>\n",
              "      <td>0.333333</td>\n",
              "    </tr>\n",
              "    <tr>\n",
              "      <th>1</th>\n",
              "      <td>474703</td>\n",
              "      <td>656</td>\n",
              "      <td>27777499</td>\n",
              "      <td>1</td>\n",
              "      <td>718877</td>\n",
              "      <td>26044415</td>\n",
              "      <td>0</td>\n",
              "      <td>1</td>\n",
              "      <td>1</td>\n",
              "      <td>3</td>\n",
              "      <td>0.000314</td>\n",
              "      <td>0.095220</td>\n",
              "      <td>429000</td>\n",
              "      <td>27093701</td>\n",
              "      <td>9312274</td>\n",
              "      <td>21372185</td>\n",
              "      <td>30054645</td>\n",
              "      <td>11409686</td>\n",
              "      <td>5824238</td>\n",
              "      <td>27512348</td>\n",
              "      <td>29196072</td>\n",
              "      <td>21091111</td>\n",
              "      <td>656_26044415</td>\n",
              "      <td>0.177712</td>\n",
              "      <td>0.165510</td>\n",
              "      <td>[0.0, 0.0, 0.0, 0.0, 0.0, 0.0, 1.0, 0.0, 0.0, ...</td>\n",
              "      <td>[0.0, 0.0, 0.0, 0.0, 0.0, 0.0, 0.0, 0.0, 0.0, ...</td>\n",
              "      <td>3</td>\n",
              "      <td>0.333333</td>\n",
              "    </tr>\n",
              "    <tr>\n",
              "      <th>2</th>\n",
              "      <td>45703</td>\n",
              "      <td>656</td>\n",
              "      <td>27777499</td>\n",
              "      <td>1</td>\n",
              "      <td>718877</td>\n",
              "      <td>26044415</td>\n",
              "      <td>0</td>\n",
              "      <td>1</td>\n",
              "      <td>0</td>\n",
              "      <td>3</td>\n",
              "      <td>0.000334</td>\n",
              "      <td>0.075868</td>\n",
              "      <td>202860</td>\n",
              "      <td>27093701</td>\n",
              "      <td>9312274</td>\n",
              "      <td>21372185</td>\n",
              "      <td>23549932</td>\n",
              "      <td>11409686</td>\n",
              "      <td>32440041</td>\n",
              "      <td>27277949</td>\n",
              "      <td>29196072</td>\n",
              "      <td>21091108</td>\n",
              "      <td>656_26044415</td>\n",
              "      <td>0.017110</td>\n",
              "      <td>0.078264</td>\n",
              "      <td>[0.0, 0.0, 0.0, 0.0, 0.0, 0.0, 1.0, 0.0, 0.0, ...</td>\n",
              "      <td>[0.0, 0.0, 0.0, 0.0, 0.0, 0.0, 0.0, 0.0, 0.0, ...</td>\n",
              "      <td>3</td>\n",
              "      <td>0.333333</td>\n",
              "    </tr>\n",
              "    <tr>\n",
              "      <th>3</th>\n",
              "      <td>1617199</td>\n",
              "      <td>999</td>\n",
              "      <td>5061834</td>\n",
              "      <td>1</td>\n",
              "      <td>4103933</td>\n",
              "      <td>14996161</td>\n",
              "      <td>0</td>\n",
              "      <td>1</td>\n",
              "      <td>0</td>\n",
              "      <td>4</td>\n",
              "      <td>0.001932</td>\n",
              "      <td>0.287987</td>\n",
              "      <td>-1</td>\n",
              "      <td>30763035</td>\n",
              "      <td>9312274</td>\n",
              "      <td>28944165</td>\n",
              "      <td>29196072</td>\n",
              "      <td>26611392</td>\n",
              "      <td>29196072</td>\n",
              "      <td>5642940</td>\n",
              "      <td>29196072</td>\n",
              "      <td>29196072</td>\n",
              "      <td>999_14996161</td>\n",
              "      <td>0.605421</td>\n",
              "      <td>0.000000</td>\n",
              "      <td>[1.0, 0.0, 0.0, 0.0, 0.0, 0.0, 0.0, 0.0, 0.0, ...</td>\n",
              "      <td>[0.0, 0.0, 0.0, 0.0, 0.0, 0.0, 0.0, 0.0, 0.0, ...</td>\n",
              "      <td>3</td>\n",
              "      <td>0.333333</td>\n",
              "    </tr>\n",
              "    <tr>\n",
              "      <th>4</th>\n",
              "      <td>2143779</td>\n",
              "      <td>999</td>\n",
              "      <td>5061834</td>\n",
              "      <td>1</td>\n",
              "      <td>4103933</td>\n",
              "      <td>14996161</td>\n",
              "      <td>0</td>\n",
              "      <td>1</td>\n",
              "      <td>2</td>\n",
              "      <td>4</td>\n",
              "      <td>0.001035</td>\n",
              "      <td>0.310221</td>\n",
              "      <td>8415</td>\n",
              "      <td>30763035</td>\n",
              "      <td>9312274</td>\n",
              "      <td>28944165</td>\n",
              "      <td>29196072</td>\n",
              "      <td>26611392</td>\n",
              "      <td>29196072</td>\n",
              "      <td>5642940</td>\n",
              "      <td>29196072</td>\n",
              "      <td>15351056</td>\n",
              "      <td>999_14996161</td>\n",
              "      <td>0.802553</td>\n",
              "      <td>0.003247</td>\n",
              "      <td>[1.0, 0.0, 0.0, 0.0, 0.0, 0.0, 0.0, 0.0, 0.0, ...</td>\n",
              "      <td>[0.0, 0.0, 0.0, 0.0, 0.0, 0.0, 0.0, 0.0, 0.0, ...</td>\n",
              "      <td>3</td>\n",
              "      <td>0.333333</td>\n",
              "    </tr>\n",
              "    <tr>\n",
              "      <th>...</th>\n",
              "      <td>...</td>\n",
              "      <td>...</td>\n",
              "      <td>...</td>\n",
              "      <td>...</td>\n",
              "      <td>...</td>\n",
              "      <td>...</td>\n",
              "      <td>...</td>\n",
              "      <td>...</td>\n",
              "      <td>...</td>\n",
              "      <td>...</td>\n",
              "      <td>...</td>\n",
              "      <td>...</td>\n",
              "      <td>...</td>\n",
              "      <td>...</td>\n",
              "      <td>...</td>\n",
              "      <td>...</td>\n",
              "      <td>...</td>\n",
              "      <td>...</td>\n",
              "      <td>...</td>\n",
              "      <td>...</td>\n",
              "      <td>...</td>\n",
              "      <td>...</td>\n",
              "      <td>...</td>\n",
              "      <td>...</td>\n",
              "      <td>...</td>\n",
              "      <td>...</td>\n",
              "      <td>...</td>\n",
              "      <td>...</td>\n",
              "      <td>...</td>\n",
              "    </tr>\n",
              "    <tr>\n",
              "      <th>316552</th>\n",
              "      <td>24327</td>\n",
              "      <td>32458202</td>\n",
              "      <td>2576437</td>\n",
              "      <td>1</td>\n",
              "      <td>625696</td>\n",
              "      <td>26332147</td>\n",
              "      <td>0</td>\n",
              "      <td>1</td>\n",
              "      <td>12</td>\n",
              "      <td>17</td>\n",
              "      <td>0.000223</td>\n",
              "      <td>0.098605</td>\n",
              "      <td>131793</td>\n",
              "      <td>30763035</td>\n",
              "      <td>5642940</td>\n",
              "      <td>30345721</td>\n",
              "      <td>29196072</td>\n",
              "      <td>32440044</td>\n",
              "      <td>1973606</td>\n",
              "      <td>23932668</td>\n",
              "      <td>26597096</td>\n",
              "      <td>29520626</td>\n",
              "      <td>32458202_26332147</td>\n",
              "      <td>0.009107</td>\n",
              "      <td>0.050846</td>\n",
              "      <td>[1.0, 0.0, 0.0, 0.0, 0.0, 0.0, 0.0, 0.0, 0.0, ...</td>\n",
              "      <td>[0.0, 0.0, 0.0, 0.0, 0.0, 0.0, 0.0, 0.0, 0.0, ...</td>\n",
              "      <td>5</td>\n",
              "      <td>0.200000</td>\n",
              "    </tr>\n",
              "    <tr>\n",
              "      <th>316553</th>\n",
              "      <td>497632</td>\n",
              "      <td>32458202</td>\n",
              "      <td>2576437</td>\n",
              "      <td>1</td>\n",
              "      <td>625696</td>\n",
              "      <td>26332147</td>\n",
              "      <td>0</td>\n",
              "      <td>1</td>\n",
              "      <td>16</td>\n",
              "      <td>17</td>\n",
              "      <td>0.001277</td>\n",
              "      <td>0.114174</td>\n",
              "      <td>42851</td>\n",
              "      <td>30763035</td>\n",
              "      <td>5642940</td>\n",
              "      <td>30345721</td>\n",
              "      <td>29196072</td>\n",
              "      <td>32440044</td>\n",
              "      <td>1973606</td>\n",
              "      <td>3698652</td>\n",
              "      <td>29196072</td>\n",
              "      <td>9491354</td>\n",
              "      <td>32458202_26332147</td>\n",
              "      <td>0.186295</td>\n",
              "      <td>0.016532</td>\n",
              "      <td>[1.0, 0.0, 0.0, 0.0, 0.0, 0.0, 0.0, 0.0, 0.0, ...</td>\n",
              "      <td>[0.0, 0.0, 0.0, 0.0, 0.0, 0.0, 0.0, 0.0, 0.0, ...</td>\n",
              "      <td>5</td>\n",
              "      <td>0.200000</td>\n",
              "    </tr>\n",
              "    <tr>\n",
              "      <th>316554</th>\n",
              "      <td>454781</td>\n",
              "      <td>32458202</td>\n",
              "      <td>2576437</td>\n",
              "      <td>1</td>\n",
              "      <td>625696</td>\n",
              "      <td>26332147</td>\n",
              "      <td>0</td>\n",
              "      <td>1</td>\n",
              "      <td>15</td>\n",
              "      <td>17</td>\n",
              "      <td>0.000628</td>\n",
              "      <td>0.102350</td>\n",
              "      <td>388847</td>\n",
              "      <td>30763035</td>\n",
              "      <td>5642940</td>\n",
              "      <td>30345721</td>\n",
              "      <td>29196072</td>\n",
              "      <td>32440044</td>\n",
              "      <td>1973606</td>\n",
              "      <td>3698652</td>\n",
              "      <td>20754144</td>\n",
              "      <td>21091111</td>\n",
              "      <td>32458202_26332147</td>\n",
              "      <td>0.170254</td>\n",
              "      <td>0.150018</td>\n",
              "      <td>[1.0, 0.0, 0.0, 0.0, 0.0, 0.0, 0.0, 0.0, 0.0, ...</td>\n",
              "      <td>[0.0, 0.0, 0.0, 0.0, 0.0, 0.0, 0.0, 0.0, 0.0, ...</td>\n",
              "      <td>5</td>\n",
              "      <td>0.200000</td>\n",
              "    </tr>\n",
              "    <tr>\n",
              "      <th>316555</th>\n",
              "      <td>1078474</td>\n",
              "      <td>32458592</td>\n",
              "      <td>8287704</td>\n",
              "      <td>1</td>\n",
              "      <td>1240667</td>\n",
              "      <td>16312783</td>\n",
              "      <td>1</td>\n",
              "      <td>1</td>\n",
              "      <td>0</td>\n",
              "      <td>2</td>\n",
              "      <td>0.000022</td>\n",
              "      <td>0.149125</td>\n",
              "      <td>-1</td>\n",
              "      <td>25259032</td>\n",
              "      <td>9312274</td>\n",
              "      <td>28538391</td>\n",
              "      <td>29196072</td>\n",
              "      <td>11409686</td>\n",
              "      <td>1973606</td>\n",
              "      <td>9312274</td>\n",
              "      <td>20754144</td>\n",
              "      <td>29196072</td>\n",
              "      <td>32458592_16312783</td>\n",
              "      <td>0.403742</td>\n",
              "      <td>0.000000</td>\n",
              "      <td>[0.0, 0.0, 0.0, 0.0, 1.0, 0.0, 0.0, 0.0, 0.0, ...</td>\n",
              "      <td>[0.0, 0.0, 0.0, 0.0, 0.0, 0.0, 0.0, 0.0, 0.0, ...</td>\n",
              "      <td>2</td>\n",
              "      <td>0.500000</td>\n",
              "    </tr>\n",
              "    <tr>\n",
              "      <th>316556</th>\n",
              "      <td>1078559</td>\n",
              "      <td>32458592</td>\n",
              "      <td>8287704</td>\n",
              "      <td>1</td>\n",
              "      <td>1240667</td>\n",
              "      <td>16312783</td>\n",
              "      <td>1</td>\n",
              "      <td>1</td>\n",
              "      <td>1</td>\n",
              "      <td>2</td>\n",
              "      <td>0.000111</td>\n",
              "      <td>0.149125</td>\n",
              "      <td>85</td>\n",
              "      <td>25259032</td>\n",
              "      <td>9312274</td>\n",
              "      <td>28538391</td>\n",
              "      <td>29196072</td>\n",
              "      <td>11409686</td>\n",
              "      <td>1973606</td>\n",
              "      <td>9312274</td>\n",
              "      <td>3225256</td>\n",
              "      <td>22419795</td>\n",
              "      <td>32458592_16312783</td>\n",
              "      <td>0.403773</td>\n",
              "      <td>0.000033</td>\n",
              "      <td>[0.0, 0.0, 0.0, 0.0, 1.0, 0.0, 0.0, 0.0, 0.0, ...</td>\n",
              "      <td>[0.0, 0.0, 0.0, 0.0, 0.0, 0.0, 0.0, 0.0, 0.0, ...</td>\n",
              "      <td>2</td>\n",
              "      <td>0.500000</td>\n",
              "    </tr>\n",
              "  </tbody>\n",
              "</table>\n",
              "<p>316557 rows × 29 columns</p>\n",
              "</div>"
            ],
            "text/plain": [
              "       timestamp       uid  ... campaign_count campaign_probability\n",
              "0         554012       656  ...              3             0.333333\n",
              "1         474703       656  ...              3             0.333333\n",
              "2          45703       656  ...              3             0.333333\n",
              "3        1617199       999  ...              3             0.333333\n",
              "4        2143779       999  ...              3             0.333333\n",
              "...          ...       ...  ...            ...                  ...\n",
              "316552     24327  32458202  ...              5             0.200000\n",
              "316553    497632  32458202  ...              5             0.200000\n",
              "316554    454781  32458202  ...              5             0.200000\n",
              "316555   1078474  32458592  ...              2             0.500000\n",
              "316556   1078559  32458592  ...              2             0.500000\n",
              "\n",
              "[316557 rows x 29 columns]"
            ]
          },
          "metadata": {
            "tags": []
          },
          "execution_count": 18
        }
      ]
    },
    {
      "cell_type": "code",
      "metadata": {
        "id": "oZNT6gDZiBHm",
        "colab_type": "code",
        "outputId": "e5884052-d369-4a9f-af22-a23a8f596a5d",
        "colab": {
          "base_uri": "https://localhost:8080/",
          "height": 139
        }
      },
      "source": [
        "df_merge.columns"
      ],
      "execution_count": 19,
      "outputs": [
        {
          "output_type": "execute_result",
          "data": {
            "text/plain": [
              "Index(['timestamp', 'uid', 'campaign', 'conversion', 'conversion_timestamp',\n",
              "       'conversion_id', 'attribution', 'click', 'click_pos', 'click_nb',\n",
              "       'cost', 'cpo', 'time_since_last_click', 'cat1', 'cat2', 'cat3', 'cat4',\n",
              "       'cat5', 'cat6', 'cat7', 'cat8', 'cat9', 'jid', 'timestamp_norm',\n",
              "       'time_since_last_click_norm', 'cats', 'campaigns', 'campaign_count',\n",
              "       'campaign_probability'],\n",
              "      dtype='object')"
            ]
          },
          "metadata": {
            "tags": []
          },
          "execution_count": 19
        }
      ]
    },
    {
      "cell_type": "code",
      "metadata": {
        "id": "ZTY3iR_8hnDW",
        "colab_type": "code",
        "colab": {}
      },
      "source": [
        "df_linear = df_merge.groupby('campaign')['campaign_probability'].sum()"
      ],
      "execution_count": 0,
      "outputs": []
    },
    {
      "cell_type": "code",
      "metadata": {
        "id": "Myy9ul_2iFh8",
        "colab_type": "code",
        "colab": {}
      },
      "source": [
        "df_linear"
      ],
      "execution_count": 0,
      "outputs": []
    },
    {
      "cell_type": "code",
      "metadata": {
        "id": "hm-WO1MA0jSH",
        "colab_type": "code",
        "colab": {
          "base_uri": "https://localhost:8080/",
          "height": 487
        },
        "outputId": "5260a578-f0fe-46d1-8a2e-e846b79e63c2"
      },
      "source": [
        "# Visualization of the attribution scores\n",
        "\n",
        "campaign_idx = range(1,50)\n",
        "\n",
        "fig = plt.figure(figsize=(15,4))\n",
        "ax = fig.add_subplot(111)\n",
        "plt.bar(range(len(camp_df['campaign'])), camp_df['campaign_wt'], label='Linear' )\n",
        "plt.xlabel('Campaign ID')\n",
        "plt.ylabel('Return per impression')\n",
        "plt.legend(loc='upper left')\n",
        "plt.show()"
      ],
      "execution_count": 21,
      "outputs": [
        {
          "output_type": "error",
          "ename": "NameError",
          "evalue": "ignored",
          "traceback": [
            "\u001b[0;31m---------------------------------------------------------------------------\u001b[0m",
            "\u001b[0;31mNameError\u001b[0m                                 Traceback (most recent call last)",
            "\u001b[0;32m<ipython-input-21-66fcf321f1c6>\u001b[0m in \u001b[0;36m<module>\u001b[0;34m()\u001b[0m\n\u001b[1;32m      4\u001b[0m \u001b[0mfig\u001b[0m \u001b[0;34m=\u001b[0m \u001b[0mplt\u001b[0m\u001b[0;34m.\u001b[0m\u001b[0mfigure\u001b[0m\u001b[0;34m(\u001b[0m\u001b[0mfigsize\u001b[0m\u001b[0;34m=\u001b[0m\u001b[0;34m(\u001b[0m\u001b[0;36m15\u001b[0m\u001b[0;34m,\u001b[0m\u001b[0;36m4\u001b[0m\u001b[0;34m)\u001b[0m\u001b[0;34m)\u001b[0m\u001b[0;34m\u001b[0m\u001b[0;34m\u001b[0m\u001b[0m\n\u001b[1;32m      5\u001b[0m \u001b[0max\u001b[0m \u001b[0;34m=\u001b[0m \u001b[0mfig\u001b[0m\u001b[0;34m.\u001b[0m\u001b[0madd_subplot\u001b[0m\u001b[0;34m(\u001b[0m\u001b[0;36m111\u001b[0m\u001b[0;34m)\u001b[0m\u001b[0;34m\u001b[0m\u001b[0;34m\u001b[0m\u001b[0m\n\u001b[0;32m----> 6\u001b[0;31m \u001b[0mplt\u001b[0m\u001b[0;34m.\u001b[0m\u001b[0mbar\u001b[0m\u001b[0;34m(\u001b[0m\u001b[0mrange\u001b[0m\u001b[0;34m(\u001b[0m\u001b[0mlen\u001b[0m\u001b[0;34m(\u001b[0m\u001b[0mcamp_df\u001b[0m\u001b[0;34m[\u001b[0m\u001b[0;34m'campaign'\u001b[0m\u001b[0;34m]\u001b[0m\u001b[0;34m)\u001b[0m\u001b[0;34m)\u001b[0m\u001b[0;34m,\u001b[0m \u001b[0mcamp_df\u001b[0m\u001b[0;34m[\u001b[0m\u001b[0;34m'campaign_wt'\u001b[0m\u001b[0;34m]\u001b[0m\u001b[0;34m,\u001b[0m \u001b[0mlabel\u001b[0m\u001b[0;34m=\u001b[0m\u001b[0;34m'Linear'\u001b[0m \u001b[0;34m)\u001b[0m\u001b[0;34m\u001b[0m\u001b[0;34m\u001b[0m\u001b[0m\n\u001b[0m\u001b[1;32m      7\u001b[0m \u001b[0mplt\u001b[0m\u001b[0;34m.\u001b[0m\u001b[0mxlabel\u001b[0m\u001b[0;34m(\u001b[0m\u001b[0;34m'Campaign ID'\u001b[0m\u001b[0;34m)\u001b[0m\u001b[0;34m\u001b[0m\u001b[0;34m\u001b[0m\u001b[0m\n\u001b[1;32m      8\u001b[0m \u001b[0mplt\u001b[0m\u001b[0;34m.\u001b[0m\u001b[0mylabel\u001b[0m\u001b[0;34m(\u001b[0m\u001b[0;34m'Return per impression'\u001b[0m\u001b[0;34m)\u001b[0m\u001b[0;34m\u001b[0m\u001b[0;34m\u001b[0m\u001b[0m\n",
            "\u001b[0;31mNameError\u001b[0m: name 'camp_df' is not defined"
          ]
        },
        {
          "output_type": "display_data",
          "data": {
            "image/png": "[encoded data removed]",
            "text/plain": [
              "<Figure size 1080x288 with 1 Axes>"
            ]
          },
          "metadata": {
            "tags": []
          }
        }
      ]
    },
    {
      "cell_type": "markdown",
      "metadata": {
        "id": "1hiQllqhirYA",
        "colab_type": "text"
      },
      "source": [
        "### U shaped Model"
      ]
    },
    {
      "cell_type": "markdown",
      "metadata": {
        "id": "CYzDUTRk2RJR",
        "colab_type": "text"
      },
      "source": [
        "U-shaped Model: This model attributes 40% each to the first touchpoint and lead conversion touchpoint. The other 20% is divided between the additional touchpoints encountered in between."
      ]
    },
    {
      "cell_type": "code",
      "metadata": {
        "id": "uaC7WbedmnGQ",
        "colab_type": "code",
        "outputId": "0bca900a-db0a-40d1-c9a7-87bd8191918b",
        "colab": {
          "base_uri": "https://localhost:8080/",
          "height": 121
        }
      },
      "source": [
        "df_conv_user.columns"
      ],
      "execution_count": 23,
      "outputs": [
        {
          "output_type": "execute_result",
          "data": {
            "text/plain": [
              "Index(['timestamp', 'uid', 'campaign', 'conversion', 'conversion_timestamp',\n",
              "       'conversion_id', 'attribution', 'click', 'click_pos', 'click_nb',\n",
              "       'cost', 'cpo', 'time_since_last_click', 'cat1', 'cat2', 'cat3', 'cat4',\n",
              "       'cat5', 'cat6', 'cat7', 'cat8', 'cat9', 'jid', 'timestamp_norm',\n",
              "       'time_since_last_click_norm', 'cats', 'campaigns'],\n",
              "      dtype='object')"
            ]
          },
          "metadata": {
            "tags": []
          },
          "execution_count": 23
        }
      ]
    },
    {
      "cell_type": "markdown",
      "metadata": {
        "id": "d2NDcpeM2vzL",
        "colab_type": "text"
      },
      "source": [
        "Get the minimum timestamp and maximum timestamp of campaign for each user"
      ]
    },
    {
      "cell_type": "code",
      "metadata": {
        "id": "myDZHlwClnmc",
        "colab_type": "code",
        "colab": {}
      },
      "source": [
        "time_min = df_conv_user.groupby(['uid'])['campaign','timestamp_norm'].min()\n",
        "time_max = df_conv_user.groupby(['uid'])['campaign','timestamp_norm'].max()\n"
      ],
      "execution_count": 0,
      "outputs": []
    },
    {
      "cell_type": "code",
      "metadata": {
        "id": "rqr5NN8_m6UN",
        "colab_type": "code",
        "outputId": "e6d0b1ad-34e4-4b99-b36c-2f25c9f572fe",
        "colab": {
          "base_uri": "https://localhost:8080/",
          "height": 233
        }
      },
      "source": [
        "time_min.head()"
      ],
      "execution_count": 25,
      "outputs": [
        {
          "output_type": "execute_result",
          "data": {
            "text/html": [
              "<div>\n",
              "<style scoped>\n",
              "    .dataframe tbody tr th:only-of-type {\n",
              "        vertical-align: middle;\n",
              "    }\n",
              "\n",
              "    .dataframe tbody tr th {\n",
              "        vertical-align: top;\n",
              "    }\n",
              "\n",
              "    .dataframe thead th {\n",
              "        text-align: right;\n",
              "    }\n",
              "</style>\n",
              "<table border=\"1\" class=\"dataframe\">\n",
              "  <thead>\n",
              "    <tr style=\"text-align: right;\">\n",
              "      <th></th>\n",
              "      <th>campaign</th>\n",
              "      <th>timestamp_norm</th>\n",
              "    </tr>\n",
              "    <tr>\n",
              "      <th>uid</th>\n",
              "      <th></th>\n",
              "      <th></th>\n",
              "    </tr>\n",
              "  </thead>\n",
              "  <tbody>\n",
              "    <tr>\n",
              "      <th>656</th>\n",
              "      <td>27777499</td>\n",
              "      <td>0.017110</td>\n",
              "    </tr>\n",
              "    <tr>\n",
              "      <th>999</th>\n",
              "      <td>5061834</td>\n",
              "      <td>0.605421</td>\n",
              "    </tr>\n",
              "    <tr>\n",
              "      <th>1827</th>\n",
              "      <td>604244</td>\n",
              "      <td>0.187057</td>\n",
              "    </tr>\n",
              "    <tr>\n",
              "      <th>1900</th>\n",
              "      <td>29531983</td>\n",
              "      <td>0.382787</td>\n",
              "    </tr>\n",
              "    <tr>\n",
              "      <th>2316</th>\n",
              "      <td>23852329</td>\n",
              "      <td>0.017645</td>\n",
              "    </tr>\n",
              "  </tbody>\n",
              "</table>\n",
              "</div>"
            ],
            "text/plain": [
              "      campaign  timestamp_norm\n",
              "uid                           \n",
              "656   27777499        0.017110\n",
              "999    5061834        0.605421\n",
              "1827    604244        0.187057\n",
              "1900  29531983        0.382787\n",
              "2316  23852329        0.017645"
            ]
          },
          "metadata": {
            "tags": []
          },
          "execution_count": 25
        }
      ]
    },
    {
      "cell_type": "markdown",
      "metadata": {
        "id": "50B9LE8R3ROi",
        "colab_type": "text"
      },
      "source": [
        "convert to Dataframe"
      ]
    },
    {
      "cell_type": "code",
      "metadata": {
        "id": "2uJmyAOw3fkn",
        "colab_type": "code",
        "colab": {}
      },
      "source": [
        "df_min_time = pd.DataFrame(time_min)\n",
        "df_max_time = pd.DataFrame(time_max)"
      ],
      "execution_count": 0,
      "outputs": []
    },
    {
      "cell_type": "code",
      "metadata": {
        "id": "DSlCXVJM3m2f",
        "colab_type": "code",
        "colab": {}
      },
      "source": [
        "df_min_time = df_min_time.reset_index()\n",
        "df_max_time = df_max_time.reset_index()"
      ],
      "execution_count": 0,
      "outputs": []
    },
    {
      "cell_type": "code",
      "metadata": {
        "id": "vQ4ZHmcX3rOV",
        "colab_type": "code",
        "outputId": "61e8f594-e265-4947-c2de-4044ba45ce63",
        "colab": {
          "base_uri": "https://localhost:8080/",
          "height": 202
        }
      },
      "source": [
        "df_min_time.head()"
      ],
      "execution_count": 28,
      "outputs": [
        {
          "output_type": "execute_result",
          "data": {
            "text/html": [
              "<div>\n",
              "<style scoped>\n",
              "    .dataframe tbody tr th:only-of-type {\n",
              "        vertical-align: middle;\n",
              "    }\n",
              "\n",
              "    .dataframe tbody tr th {\n",
              "        vertical-align: top;\n",
              "    }\n",
              "\n",
              "    .dataframe thead th {\n",
              "        text-align: right;\n",
              "    }\n",
              "</style>\n",
              "<table border=\"1\" class=\"dataframe\">\n",
              "  <thead>\n",
              "    <tr style=\"text-align: right;\">\n",
              "      <th></th>\n",
              "      <th>uid</th>\n",
              "      <th>campaign</th>\n",
              "      <th>timestamp_norm</th>\n",
              "    </tr>\n",
              "  </thead>\n",
              "  <tbody>\n",
              "    <tr>\n",
              "      <th>0</th>\n",
              "      <td>656</td>\n",
              "      <td>27777499</td>\n",
              "      <td>0.017110</td>\n",
              "    </tr>\n",
              "    <tr>\n",
              "      <th>1</th>\n",
              "      <td>999</td>\n",
              "      <td>5061834</td>\n",
              "      <td>0.605421</td>\n",
              "    </tr>\n",
              "    <tr>\n",
              "      <th>2</th>\n",
              "      <td>1827</td>\n",
              "      <td>604244</td>\n",
              "      <td>0.187057</td>\n",
              "    </tr>\n",
              "    <tr>\n",
              "      <th>3</th>\n",
              "      <td>1900</td>\n",
              "      <td>29531983</td>\n",
              "      <td>0.382787</td>\n",
              "    </tr>\n",
              "    <tr>\n",
              "      <th>4</th>\n",
              "      <td>2316</td>\n",
              "      <td>23852329</td>\n",
              "      <td>0.017645</td>\n",
              "    </tr>\n",
              "  </tbody>\n",
              "</table>\n",
              "</div>"
            ],
            "text/plain": [
              "    uid  campaign  timestamp_norm\n",
              "0   656  27777499        0.017110\n",
              "1   999   5061834        0.605421\n",
              "2  1827    604244        0.187057\n",
              "3  1900  29531983        0.382787\n",
              "4  2316  23852329        0.017645"
            ]
          },
          "metadata": {
            "tags": []
          },
          "execution_count": 28
        }
      ]
    },
    {
      "cell_type": "markdown",
      "metadata": {
        "id": "C3i_UIfp3Um3",
        "colab_type": "text"
      },
      "source": [
        "Rename columns to include minimum & maximum timestamp in dataframe"
      ]
    },
    {
      "cell_type": "code",
      "metadata": {
        "id": "VUszBn-krU5f",
        "colab_type": "code",
        "colab": {}
      },
      "source": [
        "df_min_time\n",
        "df_min_time = df_min_time.rename(columns={\"timestamp_norm\":\"min_timestamp\"})"
      ],
      "execution_count": 0,
      "outputs": []
    },
    {
      "cell_type": "code",
      "metadata": {
        "id": "ZlI0bYkww14H",
        "colab_type": "code",
        "colab": {}
      },
      "source": [
        "df_max_time.head()\n",
        "df_max_time = df_max_time.rename(columns={\"timestamp_norm\":\"max_timestamp\"})"
      ],
      "execution_count": 0,
      "outputs": []
    },
    {
      "cell_type": "code",
      "metadata": {
        "id": "zpLWSoDP2luv",
        "colab_type": "code",
        "outputId": "77c2f290-6445-499d-c251-f3cfb8dc7f37",
        "colab": {
          "base_uri": "https://localhost:8080/",
          "height": 139
        }
      },
      "source": [
        "df_merge.columns"
      ],
      "execution_count": 31,
      "outputs": [
        {
          "output_type": "execute_result",
          "data": {
            "text/plain": [
              "Index(['timestamp', 'uid', 'campaign', 'conversion', 'conversion_timestamp',\n",
              "       'conversion_id', 'attribution', 'click', 'click_pos', 'click_nb',\n",
              "       'cost', 'cpo', 'time_since_last_click', 'cat1', 'cat2', 'cat3', 'cat4',\n",
              "       'cat5', 'cat6', 'cat7', 'cat8', 'cat9', 'jid', 'timestamp_norm',\n",
              "       'time_since_last_click_norm', 'cats', 'campaigns', 'campaign_count',\n",
              "       'campaign_probability'],\n",
              "      dtype='object')"
            ]
          },
          "metadata": {
            "tags": []
          },
          "execution_count": 31
        }
      ]
    },
    {
      "cell_type": "code",
      "metadata": {
        "id": "1O4MSm8pqQ8H",
        "colab_type": "code",
        "outputId": "e3f2d480-56c1-45cf-d3cd-0957c797d73e",
        "colab": {
          "base_uri": "https://localhost:8080/",
          "height": 35
        }
      },
      "source": [
        "df_max_time.columns"
      ],
      "execution_count": 32,
      "outputs": [
        {
          "output_type": "execute_result",
          "data": {
            "text/plain": [
              "Index(['uid', 'campaign', 'max_timestamp'], dtype='object')"
            ]
          },
          "metadata": {
            "tags": []
          },
          "execution_count": 32
        }
      ]
    },
    {
      "cell_type": "code",
      "metadata": {
        "id": "V40QvWoa2VYY",
        "colab_type": "code",
        "outputId": "3b582b6d-fde9-4ff4-a43a-eddefcf1671c",
        "colab": {
          "base_uri": "https://localhost:8080/",
          "height": 35
        }
      },
      "source": [
        "df_min_time.columns"
      ],
      "execution_count": 33,
      "outputs": [
        {
          "output_type": "execute_result",
          "data": {
            "text/plain": [
              "Index(['uid', 'campaign', 'min_timestamp'], dtype='object')"
            ]
          },
          "metadata": {
            "tags": []
          },
          "execution_count": 33
        }
      ]
    },
    {
      "cell_type": "markdown",
      "metadata": {
        "id": "NyBRG9Yw3c-z",
        "colab_type": "text"
      },
      "source": [
        "Merge the max and min timestamp in dataframe"
      ]
    },
    {
      "cell_type": "code",
      "metadata": {
        "id": "EBkshB-b2pZG",
        "colab_type": "code",
        "colab": {}
      },
      "source": [
        "df_merge_time_max = pd.merge(df_merge,df_max_time,  how = 'inner', on =(['uid','campaign']),)\n",
        "\n",
        "df_merge_time_min = pd.merge(df_merge_time_max,df_min_time,  how = 'inner', on =(['uid','campaign']),)\n"
      ],
      "execution_count": 0,
      "outputs": []
    },
    {
      "cell_type": "code",
      "metadata": {
        "id": "ENN9KN1hpG8G",
        "colab_type": "code",
        "outputId": "4581da9b-6f52-4fe4-c95a-5f84058e4816",
        "colab": {
          "base_uri": "https://localhost:8080/",
          "height": 1000
        }
      },
      "source": [
        "df_merge_time_max.head()"
      ],
      "execution_count": 35,
      "outputs": [
        {
          "output_type": "execute_result",
          "data": {
            "text/html": [
              "<div>\n",
              "<style scoped>\n",
              "    .dataframe tbody tr th:only-of-type {\n",
              "        vertical-align: middle;\n",
              "    }\n",
              "\n",
              "    .dataframe tbody tr th {\n",
              "        vertical-align: top;\n",
              "    }\n",
              "\n",
              "    .dataframe thead th {\n",
              "        text-align: right;\n",
              "    }\n",
              "</style>\n",
              "<table border=\"1\" class=\"dataframe\">\n",
              "  <thead>\n",
              "    <tr style=\"text-align: right;\">\n",
              "      <th></th>\n",
              "      <th>timestamp</th>\n",
              "      <th>uid</th>\n",
              "      <th>campaign</th>\n",
              "      <th>conversion</th>\n",
              "      <th>conversion_timestamp</th>\n",
              "      <th>conversion_id</th>\n",
              "      <th>attribution</th>\n",
              "      <th>click</th>\n",
              "      <th>click_pos</th>\n",
              "      <th>click_nb</th>\n",
              "      <th>cost</th>\n",
              "      <th>cpo</th>\n",
              "      <th>time_since_last_click</th>\n",
              "      <th>cat1</th>\n",
              "      <th>cat2</th>\n",
              "      <th>cat3</th>\n",
              "      <th>cat4</th>\n",
              "      <th>cat5</th>\n",
              "      <th>cat6</th>\n",
              "      <th>cat7</th>\n",
              "      <th>cat8</th>\n",
              "      <th>cat9</th>\n",
              "      <th>jid</th>\n",
              "      <th>timestamp_norm</th>\n",
              "      <th>time_since_last_click_norm</th>\n",
              "      <th>cats</th>\n",
              "      <th>campaigns</th>\n",
              "      <th>campaign_count</th>\n",
              "      <th>campaign_probability</th>\n",
              "      <th>max_timestamp</th>\n",
              "    </tr>\n",
              "  </thead>\n",
              "  <tbody>\n",
              "    <tr>\n",
              "      <th>0</th>\n",
              "      <td>554012</td>\n",
              "      <td>656</td>\n",
              "      <td>27777499</td>\n",
              "      <td>1</td>\n",
              "      <td>718877</td>\n",
              "      <td>26044415</td>\n",
              "      <td>0</td>\n",
              "      <td>1</td>\n",
              "      <td>2</td>\n",
              "      <td>3</td>\n",
              "      <td>0.000168</td>\n",
              "      <td>0.095338</td>\n",
              "      <td>79309</td>\n",
              "      <td>27093701</td>\n",
              "      <td>9312274</td>\n",
              "      <td>21372185</td>\n",
              "      <td>29196072</td>\n",
              "      <td>11409686</td>\n",
              "      <td>3808271</td>\n",
              "      <td>20246687</td>\n",
              "      <td>29196072</td>\n",
              "      <td>29520629</td>\n",
              "      <td>656_26044415</td>\n",
              "      <td>0.207402</td>\n",
              "      <td>0.030598</td>\n",
              "      <td>[0.0, 0.0, 0.0, 0.0, 0.0, 0.0, 1.0, 0.0, 0.0, ...</td>\n",
              "      <td>[0.0, 0.0, 0.0, 0.0, 0.0, 0.0, 0.0, 0.0, 0.0, ...</td>\n",
              "      <td>3</td>\n",
              "      <td>0.333333</td>\n",
              "      <td>0.207402</td>\n",
              "    </tr>\n",
              "    <tr>\n",
              "      <th>1</th>\n",
              "      <td>474703</td>\n",
              "      <td>656</td>\n",
              "      <td>27777499</td>\n",
              "      <td>1</td>\n",
              "      <td>718877</td>\n",
              "      <td>26044415</td>\n",
              "      <td>0</td>\n",
              "      <td>1</td>\n",
              "      <td>1</td>\n",
              "      <td>3</td>\n",
              "      <td>0.000314</td>\n",
              "      <td>0.095220</td>\n",
              "      <td>429000</td>\n",
              "      <td>27093701</td>\n",
              "      <td>9312274</td>\n",
              "      <td>21372185</td>\n",
              "      <td>30054645</td>\n",
              "      <td>11409686</td>\n",
              "      <td>5824238</td>\n",
              "      <td>27512348</td>\n",
              "      <td>29196072</td>\n",
              "      <td>21091111</td>\n",
              "      <td>656_26044415</td>\n",
              "      <td>0.177712</td>\n",
              "      <td>0.165510</td>\n",
              "      <td>[0.0, 0.0, 0.0, 0.0, 0.0, 0.0, 1.0, 0.0, 0.0, ...</td>\n",
              "      <td>[0.0, 0.0, 0.0, 0.0, 0.0, 0.0, 0.0, 0.0, 0.0, ...</td>\n",
              "      <td>3</td>\n",
              "      <td>0.333333</td>\n",
              "      <td>0.207402</td>\n",
              "    </tr>\n",
              "    <tr>\n",
              "      <th>2</th>\n",
              "      <td>45703</td>\n",
              "      <td>656</td>\n",
              "      <td>27777499</td>\n",
              "      <td>1</td>\n",
              "      <td>718877</td>\n",
              "      <td>26044415</td>\n",
              "      <td>0</td>\n",
              "      <td>1</td>\n",
              "      <td>0</td>\n",
              "      <td>3</td>\n",
              "      <td>0.000334</td>\n",
              "      <td>0.075868</td>\n",
              "      <td>202860</td>\n",
              "      <td>27093701</td>\n",
              "      <td>9312274</td>\n",
              "      <td>21372185</td>\n",
              "      <td>23549932</td>\n",
              "      <td>11409686</td>\n",
              "      <td>32440041</td>\n",
              "      <td>27277949</td>\n",
              "      <td>29196072</td>\n",
              "      <td>21091108</td>\n",
              "      <td>656_26044415</td>\n",
              "      <td>0.017110</td>\n",
              "      <td>0.078264</td>\n",
              "      <td>[0.0, 0.0, 0.0, 0.0, 0.0, 0.0, 1.0, 0.0, 0.0, ...</td>\n",
              "      <td>[0.0, 0.0, 0.0, 0.0, 0.0, 0.0, 0.0, 0.0, 0.0, ...</td>\n",
              "      <td>3</td>\n",
              "      <td>0.333333</td>\n",
              "      <td>0.207402</td>\n",
              "    </tr>\n",
              "    <tr>\n",
              "      <th>3</th>\n",
              "      <td>1617199</td>\n",
              "      <td>999</td>\n",
              "      <td>5061834</td>\n",
              "      <td>1</td>\n",
              "      <td>4103933</td>\n",
              "      <td>14996161</td>\n",
              "      <td>0</td>\n",
              "      <td>1</td>\n",
              "      <td>0</td>\n",
              "      <td>4</td>\n",
              "      <td>0.001932</td>\n",
              "      <td>0.287987</td>\n",
              "      <td>-1</td>\n",
              "      <td>30763035</td>\n",
              "      <td>9312274</td>\n",
              "      <td>28944165</td>\n",
              "      <td>29196072</td>\n",
              "      <td>26611392</td>\n",
              "      <td>29196072</td>\n",
              "      <td>5642940</td>\n",
              "      <td>29196072</td>\n",
              "      <td>29196072</td>\n",
              "      <td>999_14996161</td>\n",
              "      <td>0.605421</td>\n",
              "      <td>0.000000</td>\n",
              "      <td>[1.0, 0.0, 0.0, 0.0, 0.0, 0.0, 0.0, 0.0, 0.0, ...</td>\n",
              "      <td>[0.0, 0.0, 0.0, 0.0, 0.0, 0.0, 0.0, 0.0, 0.0, ...</td>\n",
              "      <td>3</td>\n",
              "      <td>0.333333</td>\n",
              "      <td>0.802553</td>\n",
              "    </tr>\n",
              "    <tr>\n",
              "      <th>4</th>\n",
              "      <td>2143779</td>\n",
              "      <td>999</td>\n",
              "      <td>5061834</td>\n",
              "      <td>1</td>\n",
              "      <td>4103933</td>\n",
              "      <td>14996161</td>\n",
              "      <td>0</td>\n",
              "      <td>1</td>\n",
              "      <td>2</td>\n",
              "      <td>4</td>\n",
              "      <td>0.001035</td>\n",
              "      <td>0.310221</td>\n",
              "      <td>8415</td>\n",
              "      <td>30763035</td>\n",
              "      <td>9312274</td>\n",
              "      <td>28944165</td>\n",
              "      <td>29196072</td>\n",
              "      <td>26611392</td>\n",
              "      <td>29196072</td>\n",
              "      <td>5642940</td>\n",
              "      <td>29196072</td>\n",
              "      <td>15351056</td>\n",
              "      <td>999_14996161</td>\n",
              "      <td>0.802553</td>\n",
              "      <td>0.003247</td>\n",
              "      <td>[1.0, 0.0, 0.0, 0.0, 0.0, 0.0, 0.0, 0.0, 0.0, ...</td>\n",
              "      <td>[0.0, 0.0, 0.0, 0.0, 0.0, 0.0, 0.0, 0.0, 0.0, ...</td>\n",
              "      <td>3</td>\n",
              "      <td>0.333333</td>\n",
              "      <td>0.802553</td>\n",
              "    </tr>\n",
              "  </tbody>\n",
              "</table>\n",
              "</div>"
            ],
            "text/plain": [
              "  timestamp  uid  campaign  ... campaign_count campaign_probability max_timestamp\n",
              "0    554012  656  27777499  ...              3             0.333333      0.207402\n",
              "1    474703  656  27777499  ...              3             0.333333      0.207402\n",
              "2     45703  656  27777499  ...              3             0.333333      0.207402\n",
              "3   1617199  999   5061834  ...              3             0.333333      0.802553\n",
              "4   2143779  999   5061834  ...              3             0.333333      0.802553\n",
              "\n",
              "[5 rows x 30 columns]"
            ]
          },
          "metadata": {
            "tags": []
          },
          "execution_count": 35
        }
      ]
    },
    {
      "cell_type": "code",
      "metadata": {
        "id": "9Brl5ZSFrJlR",
        "colab_type": "code",
        "outputId": "9f147256-c580-4b3e-c302-f8e8a2478c08",
        "colab": {
          "base_uri": "https://localhost:8080/",
          "height": 1000
        }
      },
      "source": [
        "df_merge_time_min.head()"
      ],
      "execution_count": 36,
      "outputs": [
        {
          "output_type": "execute_result",
          "data": {
            "text/html": [
              "<div>\n",
              "<style scoped>\n",
              "    .dataframe tbody tr th:only-of-type {\n",
              "        vertical-align: middle;\n",
              "    }\n",
              "\n",
              "    .dataframe tbody tr th {\n",
              "        vertical-align: top;\n",
              "    }\n",
              "\n",
              "    .dataframe thead th {\n",
              "        text-align: right;\n",
              "    }\n",
              "</style>\n",
              "<table border=\"1\" class=\"dataframe\">\n",
              "  <thead>\n",
              "    <tr style=\"text-align: right;\">\n",
              "      <th></th>\n",
              "      <th>timestamp</th>\n",
              "      <th>uid</th>\n",
              "      <th>campaign</th>\n",
              "      <th>conversion</th>\n",
              "      <th>conversion_timestamp</th>\n",
              "      <th>conversion_id</th>\n",
              "      <th>attribution</th>\n",
              "      <th>click</th>\n",
              "      <th>click_pos</th>\n",
              "      <th>click_nb</th>\n",
              "      <th>cost</th>\n",
              "      <th>cpo</th>\n",
              "      <th>time_since_last_click</th>\n",
              "      <th>cat1</th>\n",
              "      <th>cat2</th>\n",
              "      <th>cat3</th>\n",
              "      <th>cat4</th>\n",
              "      <th>cat5</th>\n",
              "      <th>cat6</th>\n",
              "      <th>cat7</th>\n",
              "      <th>cat8</th>\n",
              "      <th>cat9</th>\n",
              "      <th>jid</th>\n",
              "      <th>timestamp_norm</th>\n",
              "      <th>time_since_last_click_norm</th>\n",
              "      <th>cats</th>\n",
              "      <th>campaigns</th>\n",
              "      <th>campaign_count</th>\n",
              "      <th>campaign_probability</th>\n",
              "      <th>max_timestamp</th>\n",
              "      <th>min_timestamp</th>\n",
              "    </tr>\n",
              "  </thead>\n",
              "  <tbody>\n",
              "    <tr>\n",
              "      <th>0</th>\n",
              "      <td>554012</td>\n",
              "      <td>656</td>\n",
              "      <td>27777499</td>\n",
              "      <td>1</td>\n",
              "      <td>718877</td>\n",
              "      <td>26044415</td>\n",
              "      <td>0</td>\n",
              "      <td>1</td>\n",
              "      <td>2</td>\n",
              "      <td>3</td>\n",
              "      <td>0.000168</td>\n",
              "      <td>0.095338</td>\n",
              "      <td>79309</td>\n",
              "      <td>27093701</td>\n",
              "      <td>9312274</td>\n",
              "      <td>21372185</td>\n",
              "      <td>29196072</td>\n",
              "      <td>11409686</td>\n",
              "      <td>3808271</td>\n",
              "      <td>20246687</td>\n",
              "      <td>29196072</td>\n",
              "      <td>29520629</td>\n",
              "      <td>656_26044415</td>\n",
              "      <td>0.207402</td>\n",
              "      <td>0.030598</td>\n",
              "      <td>[0.0, 0.0, 0.0, 0.0, 0.0, 0.0, 1.0, 0.0, 0.0, ...</td>\n",
              "      <td>[0.0, 0.0, 0.0, 0.0, 0.0, 0.0, 0.0, 0.0, 0.0, ...</td>\n",
              "      <td>3</td>\n",
              "      <td>0.333333</td>\n",
              "      <td>0.207402</td>\n",
              "      <td>0.017110</td>\n",
              "    </tr>\n",
              "    <tr>\n",
              "      <th>1</th>\n",
              "      <td>474703</td>\n",
              "      <td>656</td>\n",
              "      <td>27777499</td>\n",
              "      <td>1</td>\n",
              "      <td>718877</td>\n",
              "      <td>26044415</td>\n",
              "      <td>0</td>\n",
              "      <td>1</td>\n",
              "      <td>1</td>\n",
              "      <td>3</td>\n",
              "      <td>0.000314</td>\n",
              "      <td>0.095220</td>\n",
              "      <td>429000</td>\n",
              "      <td>27093701</td>\n",
              "      <td>9312274</td>\n",
              "      <td>21372185</td>\n",
              "      <td>30054645</td>\n",
              "      <td>11409686</td>\n",
              "      <td>5824238</td>\n",
              "      <td>27512348</td>\n",
              "      <td>29196072</td>\n",
              "      <td>21091111</td>\n",
              "      <td>656_26044415</td>\n",
              "      <td>0.177712</td>\n",
              "      <td>0.165510</td>\n",
              "      <td>[0.0, 0.0, 0.0, 0.0, 0.0, 0.0, 1.0, 0.0, 0.0, ...</td>\n",
              "      <td>[0.0, 0.0, 0.0, 0.0, 0.0, 0.0, 0.0, 0.0, 0.0, ...</td>\n",
              "      <td>3</td>\n",
              "      <td>0.333333</td>\n",
              "      <td>0.207402</td>\n",
              "      <td>0.017110</td>\n",
              "    </tr>\n",
              "    <tr>\n",
              "      <th>2</th>\n",
              "      <td>45703</td>\n",
              "      <td>656</td>\n",
              "      <td>27777499</td>\n",
              "      <td>1</td>\n",
              "      <td>718877</td>\n",
              "      <td>26044415</td>\n",
              "      <td>0</td>\n",
              "      <td>1</td>\n",
              "      <td>0</td>\n",
              "      <td>3</td>\n",
              "      <td>0.000334</td>\n",
              "      <td>0.075868</td>\n",
              "      <td>202860</td>\n",
              "      <td>27093701</td>\n",
              "      <td>9312274</td>\n",
              "      <td>21372185</td>\n",
              "      <td>23549932</td>\n",
              "      <td>11409686</td>\n",
              "      <td>32440041</td>\n",
              "      <td>27277949</td>\n",
              "      <td>29196072</td>\n",
              "      <td>21091108</td>\n",
              "      <td>656_26044415</td>\n",
              "      <td>0.017110</td>\n",
              "      <td>0.078264</td>\n",
              "      <td>[0.0, 0.0, 0.0, 0.0, 0.0, 0.0, 1.0, 0.0, 0.0, ...</td>\n",
              "      <td>[0.0, 0.0, 0.0, 0.0, 0.0, 0.0, 0.0, 0.0, 0.0, ...</td>\n",
              "      <td>3</td>\n",
              "      <td>0.333333</td>\n",
              "      <td>0.207402</td>\n",
              "      <td>0.017110</td>\n",
              "    </tr>\n",
              "    <tr>\n",
              "      <th>3</th>\n",
              "      <td>1617199</td>\n",
              "      <td>999</td>\n",
              "      <td>5061834</td>\n",
              "      <td>1</td>\n",
              "      <td>4103933</td>\n",
              "      <td>14996161</td>\n",
              "      <td>0</td>\n",
              "      <td>1</td>\n",
              "      <td>0</td>\n",
              "      <td>4</td>\n",
              "      <td>0.001932</td>\n",
              "      <td>0.287987</td>\n",
              "      <td>-1</td>\n",
              "      <td>30763035</td>\n",
              "      <td>9312274</td>\n",
              "      <td>28944165</td>\n",
              "      <td>29196072</td>\n",
              "      <td>26611392</td>\n",
              "      <td>29196072</td>\n",
              "      <td>5642940</td>\n",
              "      <td>29196072</td>\n",
              "      <td>29196072</td>\n",
              "      <td>999_14996161</td>\n",
              "      <td>0.605421</td>\n",
              "      <td>0.000000</td>\n",
              "      <td>[1.0, 0.0, 0.0, 0.0, 0.0, 0.0, 0.0, 0.0, 0.0, ...</td>\n",
              "      <td>[0.0, 0.0, 0.0, 0.0, 0.0, 0.0, 0.0, 0.0, 0.0, ...</td>\n",
              "      <td>3</td>\n",
              "      <td>0.333333</td>\n",
              "      <td>0.802553</td>\n",
              "      <td>0.605421</td>\n",
              "    </tr>\n",
              "    <tr>\n",
              "      <th>4</th>\n",
              "      <td>2143779</td>\n",
              "      <td>999</td>\n",
              "      <td>5061834</td>\n",
              "      <td>1</td>\n",
              "      <td>4103933</td>\n",
              "      <td>14996161</td>\n",
              "      <td>0</td>\n",
              "      <td>1</td>\n",
              "      <td>2</td>\n",
              "      <td>4</td>\n",
              "      <td>0.001035</td>\n",
              "      <td>0.310221</td>\n",
              "      <td>8415</td>\n",
              "      <td>30763035</td>\n",
              "      <td>9312274</td>\n",
              "      <td>28944165</td>\n",
              "      <td>29196072</td>\n",
              "      <td>26611392</td>\n",
              "      <td>29196072</td>\n",
              "      <td>5642940</td>\n",
              "      <td>29196072</td>\n",
              "      <td>15351056</td>\n",
              "      <td>999_14996161</td>\n",
              "      <td>0.802553</td>\n",
              "      <td>0.003247</td>\n",
              "      <td>[1.0, 0.0, 0.0, 0.0, 0.0, 0.0, 0.0, 0.0, 0.0, ...</td>\n",
              "      <td>[0.0, 0.0, 0.0, 0.0, 0.0, 0.0, 0.0, 0.0, 0.0, ...</td>\n",
              "      <td>3</td>\n",
              "      <td>0.333333</td>\n",
              "      <td>0.802553</td>\n",
              "      <td>0.605421</td>\n",
              "    </tr>\n",
              "  </tbody>\n",
              "</table>\n",
              "</div>"
            ],
            "text/plain": [
              "  timestamp  uid  campaign  ... campaign_probability max_timestamp min_timestamp\n",
              "0    554012  656  27777499  ...             0.333333      0.207402      0.017110\n",
              "1    474703  656  27777499  ...             0.333333      0.207402      0.017110\n",
              "2     45703  656  27777499  ...             0.333333      0.207402      0.017110\n",
              "3   1617199  999   5061834  ...             0.333333      0.802553      0.605421\n",
              "4   2143779  999   5061834  ...             0.333333      0.802553      0.605421\n",
              "\n",
              "[5 rows x 31 columns]"
            ]
          },
          "metadata": {
            "tags": []
          },
          "execution_count": 36
        }
      ]
    },
    {
      "cell_type": "code",
      "metadata": {
        "id": "dMyJFjIvr6-E",
        "colab_type": "code",
        "colab": {}
      },
      "source": [
        "df_u_shape = df_merge_time_min"
      ],
      "execution_count": 0,
      "outputs": []
    },
    {
      "cell_type": "code",
      "metadata": {
        "id": "CKT-WcZFsTs9",
        "colab_type": "code",
        "outputId": "7125012a-585c-4145-cdc9-7764660fc00f",
        "colab": {
          "base_uri": "https://localhost:8080/",
          "height": 1000
        }
      },
      "source": [
        "df_u_shape.head()"
      ],
      "execution_count": 38,
      "outputs": [
        {
          "output_type": "execute_result",
          "data": {
            "text/html": [
              "<div>\n",
              "<style scoped>\n",
              "    .dataframe tbody tr th:only-of-type {\n",
              "        vertical-align: middle;\n",
              "    }\n",
              "\n",
              "    .dataframe tbody tr th {\n",
              "        vertical-align: top;\n",
              "    }\n",
              "\n",
              "    .dataframe thead th {\n",
              "        text-align: right;\n",
              "    }\n",
              "</style>\n",
              "<table border=\"1\" class=\"dataframe\">\n",
              "  <thead>\n",
              "    <tr style=\"text-align: right;\">\n",
              "      <th></th>\n",
              "      <th>timestamp</th>\n",
              "      <th>uid</th>\n",
              "      <th>campaign</th>\n",
              "      <th>conversion</th>\n",
              "      <th>conversion_timestamp</th>\n",
              "      <th>conversion_id</th>\n",
              "      <th>attribution</th>\n",
              "      <th>click</th>\n",
              "      <th>click_pos</th>\n",
              "      <th>click_nb</th>\n",
              "      <th>cost</th>\n",
              "      <th>cpo</th>\n",
              "      <th>time_since_last_click</th>\n",
              "      <th>cat1</th>\n",
              "      <th>cat2</th>\n",
              "      <th>cat3</th>\n",
              "      <th>cat4</th>\n",
              "      <th>cat5</th>\n",
              "      <th>cat6</th>\n",
              "      <th>cat7</th>\n",
              "      <th>cat8</th>\n",
              "      <th>cat9</th>\n",
              "      <th>jid</th>\n",
              "      <th>timestamp_norm</th>\n",
              "      <th>time_since_last_click_norm</th>\n",
              "      <th>cats</th>\n",
              "      <th>campaigns</th>\n",
              "      <th>campaign_count</th>\n",
              "      <th>campaign_probability</th>\n",
              "      <th>max_timestamp</th>\n",
              "      <th>min_timestamp</th>\n",
              "    </tr>\n",
              "  </thead>\n",
              "  <tbody>\n",
              "    <tr>\n",
              "      <th>0</th>\n",
              "      <td>554012</td>\n",
              "      <td>656</td>\n",
              "      <td>27777499</td>\n",
              "      <td>1</td>\n",
              "      <td>718877</td>\n",
              "      <td>26044415</td>\n",
              "      <td>0</td>\n",
              "      <td>1</td>\n",
              "      <td>2</td>\n",
              "      <td>3</td>\n",
              "      <td>0.000168</td>\n",
              "      <td>0.095338</td>\n",
              "      <td>79309</td>\n",
              "      <td>27093701</td>\n",
              "      <td>9312274</td>\n",
              "      <td>21372185</td>\n",
              "      <td>29196072</td>\n",
              "      <td>11409686</td>\n",
              "      <td>3808271</td>\n",
              "      <td>20246687</td>\n",
              "      <td>29196072</td>\n",
              "      <td>29520629</td>\n",
              "      <td>656_26044415</td>\n",
              "      <td>0.207402</td>\n",
              "      <td>0.030598</td>\n",
              "      <td>[0.0, 0.0, 0.0, 0.0, 0.0, 0.0, 1.0, 0.0, 0.0, ...</td>\n",
              "      <td>[0.0, 0.0, 0.0, 0.0, 0.0, 0.0, 0.0, 0.0, 0.0, ...</td>\n",
              "      <td>3</td>\n",
              "      <td>0.333333</td>\n",
              "      <td>0.207402</td>\n",
              "      <td>0.017110</td>\n",
              "    </tr>\n",
              "    <tr>\n",
              "      <th>1</th>\n",
              "      <td>474703</td>\n",
              "      <td>656</td>\n",
              "      <td>27777499</td>\n",
              "      <td>1</td>\n",
              "      <td>718877</td>\n",
              "      <td>26044415</td>\n",
              "      <td>0</td>\n",
              "      <td>1</td>\n",
              "      <td>1</td>\n",
              "      <td>3</td>\n",
              "      <td>0.000314</td>\n",
              "      <td>0.095220</td>\n",
              "      <td>429000</td>\n",
              "      <td>27093701</td>\n",
              "      <td>9312274</td>\n",
              "      <td>21372185</td>\n",
              "      <td>30054645</td>\n",
              "      <td>11409686</td>\n",
              "      <td>5824238</td>\n",
              "      <td>27512348</td>\n",
              "      <td>29196072</td>\n",
              "      <td>21091111</td>\n",
              "      <td>656_26044415</td>\n",
              "      <td>0.177712</td>\n",
              "      <td>0.165510</td>\n",
              "      <td>[0.0, 0.0, 0.0, 0.0, 0.0, 0.0, 1.0, 0.0, 0.0, ...</td>\n",
              "      <td>[0.0, 0.0, 0.0, 0.0, 0.0, 0.0, 0.0, 0.0, 0.0, ...</td>\n",
              "      <td>3</td>\n",
              "      <td>0.333333</td>\n",
              "      <td>0.207402</td>\n",
              "      <td>0.017110</td>\n",
              "    </tr>\n",
              "    <tr>\n",
              "      <th>2</th>\n",
              "      <td>45703</td>\n",
              "      <td>656</td>\n",
              "      <td>27777499</td>\n",
              "      <td>1</td>\n",
              "      <td>718877</td>\n",
              "      <td>26044415</td>\n",
              "      <td>0</td>\n",
              "      <td>1</td>\n",
              "      <td>0</td>\n",
              "      <td>3</td>\n",
              "      <td>0.000334</td>\n",
              "      <td>0.075868</td>\n",
              "      <td>202860</td>\n",
              "      <td>27093701</td>\n",
              "      <td>9312274</td>\n",
              "      <td>21372185</td>\n",
              "      <td>23549932</td>\n",
              "      <td>11409686</td>\n",
              "      <td>32440041</td>\n",
              "      <td>27277949</td>\n",
              "      <td>29196072</td>\n",
              "      <td>21091108</td>\n",
              "      <td>656_26044415</td>\n",
              "      <td>0.017110</td>\n",
              "      <td>0.078264</td>\n",
              "      <td>[0.0, 0.0, 0.0, 0.0, 0.0, 0.0, 1.0, 0.0, 0.0, ...</td>\n",
              "      <td>[0.0, 0.0, 0.0, 0.0, 0.0, 0.0, 0.0, 0.0, 0.0, ...</td>\n",
              "      <td>3</td>\n",
              "      <td>0.333333</td>\n",
              "      <td>0.207402</td>\n",
              "      <td>0.017110</td>\n",
              "    </tr>\n",
              "    <tr>\n",
              "      <th>3</th>\n",
              "      <td>1617199</td>\n",
              "      <td>999</td>\n",
              "      <td>5061834</td>\n",
              "      <td>1</td>\n",
              "      <td>4103933</td>\n",
              "      <td>14996161</td>\n",
              "      <td>0</td>\n",
              "      <td>1</td>\n",
              "      <td>0</td>\n",
              "      <td>4</td>\n",
              "      <td>0.001932</td>\n",
              "      <td>0.287987</td>\n",
              "      <td>-1</td>\n",
              "      <td>30763035</td>\n",
              "      <td>9312274</td>\n",
              "      <td>28944165</td>\n",
              "      <td>29196072</td>\n",
              "      <td>26611392</td>\n",
              "      <td>29196072</td>\n",
              "      <td>5642940</td>\n",
              "      <td>29196072</td>\n",
              "      <td>29196072</td>\n",
              "      <td>999_14996161</td>\n",
              "      <td>0.605421</td>\n",
              "      <td>0.000000</td>\n",
              "      <td>[1.0, 0.0, 0.0, 0.0, 0.0, 0.0, 0.0, 0.0, 0.0, ...</td>\n",
              "      <td>[0.0, 0.0, 0.0, 0.0, 0.0, 0.0, 0.0, 0.0, 0.0, ...</td>\n",
              "      <td>3</td>\n",
              "      <td>0.333333</td>\n",
              "      <td>0.802553</td>\n",
              "      <td>0.605421</td>\n",
              "    </tr>\n",
              "    <tr>\n",
              "      <th>4</th>\n",
              "      <td>2143779</td>\n",
              "      <td>999</td>\n",
              "      <td>5061834</td>\n",
              "      <td>1</td>\n",
              "      <td>4103933</td>\n",
              "      <td>14996161</td>\n",
              "      <td>0</td>\n",
              "      <td>1</td>\n",
              "      <td>2</td>\n",
              "      <td>4</td>\n",
              "      <td>0.001035</td>\n",
              "      <td>0.310221</td>\n",
              "      <td>8415</td>\n",
              "      <td>30763035</td>\n",
              "      <td>9312274</td>\n",
              "      <td>28944165</td>\n",
              "      <td>29196072</td>\n",
              "      <td>26611392</td>\n",
              "      <td>29196072</td>\n",
              "      <td>5642940</td>\n",
              "      <td>29196072</td>\n",
              "      <td>15351056</td>\n",
              "      <td>999_14996161</td>\n",
              "      <td>0.802553</td>\n",
              "      <td>0.003247</td>\n",
              "      <td>[1.0, 0.0, 0.0, 0.0, 0.0, 0.0, 0.0, 0.0, 0.0, ...</td>\n",
              "      <td>[0.0, 0.0, 0.0, 0.0, 0.0, 0.0, 0.0, 0.0, 0.0, ...</td>\n",
              "      <td>3</td>\n",
              "      <td>0.333333</td>\n",
              "      <td>0.802553</td>\n",
              "      <td>0.605421</td>\n",
              "    </tr>\n",
              "  </tbody>\n",
              "</table>\n",
              "</div>"
            ],
            "text/plain": [
              "  timestamp  uid  campaign  ... campaign_probability max_timestamp min_timestamp\n",
              "0    554012  656  27777499  ...             0.333333      0.207402      0.017110\n",
              "1    474703  656  27777499  ...             0.333333      0.207402      0.017110\n",
              "2     45703  656  27777499  ...             0.333333      0.207402      0.017110\n",
              "3   1617199  999   5061834  ...             0.333333      0.802553      0.605421\n",
              "4   2143779  999   5061834  ...             0.333333      0.802553      0.605421\n",
              "\n",
              "[5 rows x 31 columns]"
            ]
          },
          "metadata": {
            "tags": []
          },
          "execution_count": 38
        }
      ]
    },
    {
      "cell_type": "code",
      "metadata": {
        "id": "6wRkkAQEr-OH",
        "colab_type": "code",
        "colab": {}
      },
      "source": [
        "df_u_shape = df_u_shape.drop(columns=['campaign_probability'])"
      ],
      "execution_count": 0,
      "outputs": []
    },
    {
      "cell_type": "code",
      "metadata": {
        "id": "u7EfZ8LrtGU2",
        "colab_type": "code",
        "outputId": "1fb8e028-ad80-441c-f61e-cbf9bd6fcd51",
        "colab": {
          "base_uri": "https://localhost:8080/",
          "height": 139
        }
      },
      "source": [
        "df_u_shape.columns"
      ],
      "execution_count": 40,
      "outputs": [
        {
          "output_type": "execute_result",
          "data": {
            "text/plain": [
              "Index(['timestamp', 'uid', 'campaign', 'conversion', 'conversion_timestamp',\n",
              "       'conversion_id', 'attribution', 'click', 'click_pos', 'click_nb',\n",
              "       'cost', 'cpo', 'time_since_last_click', 'cat1', 'cat2', 'cat3', 'cat4',\n",
              "       'cat5', 'cat6', 'cat7', 'cat8', 'cat9', 'jid', 'timestamp_norm',\n",
              "       'time_since_last_click_norm', 'cats', 'campaigns', 'campaign_count',\n",
              "       'max_timestamp', 'min_timestamp'],\n",
              "      dtype='object')"
            ]
          },
          "metadata": {
            "tags": []
          },
          "execution_count": 40
        }
      ]
    },
    {
      "cell_type": "markdown",
      "metadata": {
        "id": "JSq1jaMD3kyg",
        "colab_type": "text"
      },
      "source": [
        "Check if timestamp is equal to minimum timestamp then assign 0.4 wt to campaign\n",
        "if timestamp is equal to max timestamp then assign 0.4 wt to campaign\n",
        "if campaign count of  user is equal to 1 then assign  1 wt to campaign\n",
        "if campaign count of  user is equal to 2 then assign  0.5 wt to the campaign\n",
        "if any of the condition doesnt meet , assign a random number between 0 to 0.2\n",
        "\n",
        "**Summary**     \n",
        "1 campaign --> 1 weigth                  \n",
        "2 --> 0.5 wts to each                           \n",
        "2 --> 1st campaign & last campaign (based on min and max timestamp) - 0.4 wts to each                    \n",
        "remaining campaigns if > 2 --> random number between 0 - 0.2\n"
      ]
    },
    {
      "cell_type": "code",
      "metadata": {
        "id": "n1hUxBjwAWmD",
        "colab_type": "code",
        "colab": {}
      },
      "source": [
        "df_u_shape['u_prob'] = np.where(df_u_shape['timestamp_norm']==df_u_shape['max_timestamp'], \n",
        "                                           '0.4', \n",
        "                                           np.where(df_u_shape['timestamp_norm']==df_u_shape['min_timestamp'], \n",
        "                                           '0.4', \n",
        "                                           np.random.uniform(0, 0.2, len(df_u_shape))))\n",
        "                                \n",
        "\n",
        "df_u_shape.loc[df_u_shape.campaign_count == 1, 'u_prob'] = 1\n",
        "\n",
        "df_u_shape.loc[df_u_shape.campaign_count == 2, 'u_prob'] = 0.5"
      ],
      "execution_count": 0,
      "outputs": []
    },
    {
      "cell_type": "code",
      "metadata": {
        "id": "qN6AaW4KG0YD",
        "colab_type": "code",
        "outputId": "f17f69c8-2171-40ec-f883-6b178ab024ac",
        "colab": {
          "base_uri": "https://localhost:8080/",
          "height": 225
        }
      },
      "source": [
        "df_u_shape['u_prob'].value_counts()"
      ],
      "execution_count": 42,
      "outputs": [
        {
          "output_type": "execute_result",
          "data": {
            "text/plain": [
              "0.4                     76898\n",
              "0.5                     66642\n",
              "0.14035800164658738         1\n",
              "0.18203138162406732         1\n",
              "0.039289835273293244        1\n",
              "                        ...  \n",
              "0.19900013770798508         1\n",
              "0.05999340521039831         1\n",
              "0.06751787539820686         1\n",
              "0.08464804932879975         1\n",
              "0.12717216674167664         1\n",
              "Name: u_prob, Length: 163639, dtype: int64"
            ]
          },
          "metadata": {
            "tags": []
          },
          "execution_count": 42
        }
      ]
    },
    {
      "cell_type": "code",
      "metadata": {
        "id": "LuZO_A24CYm_",
        "colab_type": "code",
        "colab": {}
      },
      "source": [
        "u_shape_camp_count=df_u_shape['campaign'].value_counts()\n",
        "u_shape_camp_count = pd.DataFrame(u_shape_camp_count.reset_index())"
      ],
      "execution_count": 0,
      "outputs": []
    },
    {
      "cell_type": "code",
      "metadata": {
        "id": "ZomxemJeCegT",
        "colab_type": "code",
        "colab": {}
      },
      "source": [
        "u_shape_camp_count.rename(columns={'index':'campaign',\n",
        "                          'campaign':'campaign_count',}, inplace=True)"
      ],
      "execution_count": 0,
      "outputs": []
    },
    {
      "cell_type": "code",
      "metadata": {
        "id": "LitfQ--bCgeU",
        "colab_type": "code",
        "colab": {}
      },
      "source": [
        "df_u_shape = df_u_shape.astype({\"u_prob\": float})\n",
        "U_prob_sum = df_u_shape.groupby('campaign')['u_prob'].sum()"
      ],
      "execution_count": 0,
      "outputs": []
    },
    {
      "cell_type": "code",
      "metadata": {
        "id": "Rpo7D24RDhGa",
        "colab_type": "code",
        "colab": {}
      },
      "source": [
        "# U_prob_sum"
      ],
      "execution_count": 0,
      "outputs": []
    },
    {
      "cell_type": "code",
      "metadata": {
        "id": "GErEylDmCjX2",
        "colab_type": "code",
        "colab": {}
      },
      "source": [
        "U_prob_sum = pd.DataFrame(U_prob_sum)\n",
        "U_prob_sum = U_prob_sum.reset_index()"
      ],
      "execution_count": 0,
      "outputs": []
    },
    {
      "cell_type": "code",
      "metadata": {
        "id": "E9nZnVMuCyx8",
        "colab_type": "code",
        "colab": {}
      },
      "source": [
        "u_shape_final = U_prob_sum.merge(u_shape_camp_count, on = ['campaign'], how = 'left')"
      ],
      "execution_count": 0,
      "outputs": []
    },
    {
      "cell_type": "code",
      "metadata": {
        "id": "w7scaPrDC0vF",
        "colab_type": "code",
        "colab": {}
      },
      "source": [
        "u_shape_final['campaign_wt']  = u_shape_final['u_prob'] /u_shape_final['campaign_count']"
      ],
      "execution_count": 0,
      "outputs": []
    },
    {
      "cell_type": "code",
      "metadata": {
        "id": "G3_megTs0da1",
        "colab_type": "code",
        "colab": {
          "base_uri": "https://localhost:8080/",
          "height": 282
        },
        "outputId": "389ed3e0-eeae-4e49-fbf7-73cf511ef0cd"
      },
      "source": [
        "campaign_idx = range(1,50)\n",
        "\n",
        "fig = plt.figure(figsize=(15,4))\n",
        "ax = fig.add_subplot(111)\n",
        "plt.bar(range(len(u_shape_final['campaign'])), u_shape_final['campaign_wt'], label='U-Shape' )\n",
        "plt.xlabel('Campaign ID')\n",
        "plt.ylabel('Return per impression')\n",
        "plt.legend(loc='upper left')\n",
        "plt.show()"
      ],
      "execution_count": 77,
      "outputs": [
        {
          "output_type": "display_data",
          "data": {
            "image/png": "[encoded data removed]",
            "text/plain": [
              "<Figure size 1080x288 with 1 Axes>"
            ]
          },
          "metadata": {
            "tags": []
          }
        }
      ]
    },
    {
      "cell_type": "markdown",
      "metadata": {
        "id": "bPWvmMaDHruo",
        "colab_type": "text"
      },
      "source": [
        "### Time Decay\n",
        "\n",
        "This model gives more credit to the touchpoints a consumer interacts with closer to the conversion.60% would go to the last campaign , remianing 40% will be divided into other campaigns."
      ]
    },
    {
      "cell_type": "code",
      "metadata": {
        "id": "94PjwDMcHv14",
        "colab_type": "code",
        "colab": {}
      },
      "source": [
        "df_time_decay = df_merge_time_min"
      ],
      "execution_count": 0,
      "outputs": []
    },
    {
      "cell_type": "code",
      "metadata": {
        "id": "STznItD9TZhQ",
        "colab_type": "code",
        "colab": {}
      },
      "source": [
        "df_time_decay = df_time_decay.drop(columns=['campaign_probability'])"
      ],
      "execution_count": 0,
      "outputs": []
    },
    {
      "cell_type": "code",
      "metadata": {
        "id": "N52TWCOQTfdm",
        "colab_type": "code",
        "outputId": "9953e3b8-4e23-4a75-dbc6-7c0fa6eb0b61",
        "colab": {
          "base_uri": "https://localhost:8080/",
          "height": 139
        }
      },
      "source": [
        "df_time_decay.columns"
      ],
      "execution_count": 80,
      "outputs": [
        {
          "output_type": "execute_result",
          "data": {
            "text/plain": [
              "Index(['timestamp', 'uid', 'campaign', 'conversion', 'conversion_timestamp',\n",
              "       'conversion_id', 'attribution', 'click', 'click_pos', 'click_nb',\n",
              "       'cost', 'cpo', 'time_since_last_click', 'cat1', 'cat2', 'cat3', 'cat4',\n",
              "       'cat5', 'cat6', 'cat7', 'cat8', 'cat9', 'jid', 'timestamp_norm',\n",
              "       'time_since_last_click_norm', 'cats', 'campaigns', 'campaign_count',\n",
              "       'max_timestamp', 'min_timestamp'],\n",
              "      dtype='object')"
            ]
          },
          "metadata": {
            "tags": []
          },
          "execution_count": 80
        }
      ]
    },
    {
      "cell_type": "markdown",
      "metadata": {
        "id": "8vvbeVfl6FL8",
        "colab_type": "text"
      },
      "source": [
        "if timestamp is equal to max timestamp then assign 0.6 wt to campaign\n",
        "if campaign count of  user is equal to 1 then assign  1 wt to campaign\n",
        "if campaign count of  user is equal to 2 then assign  0.4 wt to the 1st campaign and 0.6 to last campaign\n",
        "if any of the condition doesnt meet , assign a random number between 0 to 0.4\n",
        "\n",
        "\n"
      ]
    },
    {
      "cell_type": "code",
      "metadata": {
        "id": "vCnv95Mhx8tv",
        "colab_type": "code",
        "colab": {}
      },
      "source": [
        "df_time_decay['time_decay_prob'] = np.where(df_time_decay['timestamp_norm']==df_time_decay['max_timestamp'], \n",
        "                                           0.6,\n",
        "                                            np.where(df_time_decay['campaign_count'] == 2 ,\n",
        "                                                     0.4,\n",
        "                                                     np.random.uniform(0, 0.4, len(df_time_decay))))"
      ],
      "execution_count": 0,
      "outputs": []
    },
    {
      "cell_type": "code",
      "metadata": {
        "id": "i6VgKTEBwpQL",
        "colab_type": "code",
        "outputId": "910fc775-1a51-4373-d278-c6992e420f41",
        "colab": {
          "base_uri": "https://localhost:8080/",
          "height": 35
        }
      },
      "source": [
        "df_time_decay.shape[0]"
      ],
      "execution_count": 82,
      "outputs": [
        {
          "output_type": "execute_result",
          "data": {
            "text/plain": [
              "307177"
            ]
          },
          "metadata": {
            "tags": []
          },
          "execution_count": 82
        }
      ]
    },
    {
      "cell_type": "code",
      "metadata": {
        "id": "7JYYuBqpxv-u",
        "colab_type": "code",
        "outputId": "a0ec8c20-ec9a-4bdc-bf56-f1c387d0fd02",
        "colab": {
          "base_uri": "https://localhost:8080/",
          "height": 1000
        }
      },
      "source": [
        "df_time_decay.head()"
      ],
      "execution_count": 83,
      "outputs": [
        {
          "output_type": "execute_result",
          "data": {
            "text/html": [
              "<div>\n",
              "<style scoped>\n",
              "    .dataframe tbody tr th:only-of-type {\n",
              "        vertical-align: middle;\n",
              "    }\n",
              "\n",
              "    .dataframe tbody tr th {\n",
              "        vertical-align: top;\n",
              "    }\n",
              "\n",
              "    .dataframe thead th {\n",
              "        text-align: right;\n",
              "    }\n",
              "</style>\n",
              "<table border=\"1\" class=\"dataframe\">\n",
              "  <thead>\n",
              "    <tr style=\"text-align: right;\">\n",
              "      <th></th>\n",
              "      <th>timestamp</th>\n",
              "      <th>uid</th>\n",
              "      <th>campaign</th>\n",
              "      <th>conversion</th>\n",
              "      <th>conversion_timestamp</th>\n",
              "      <th>conversion_id</th>\n",
              "      <th>attribution</th>\n",
              "      <th>click</th>\n",
              "      <th>click_pos</th>\n",
              "      <th>click_nb</th>\n",
              "      <th>cost</th>\n",
              "      <th>cpo</th>\n",
              "      <th>time_since_last_click</th>\n",
              "      <th>cat1</th>\n",
              "      <th>cat2</th>\n",
              "      <th>cat3</th>\n",
              "      <th>cat4</th>\n",
              "      <th>cat5</th>\n",
              "      <th>cat6</th>\n",
              "      <th>cat7</th>\n",
              "      <th>cat8</th>\n",
              "      <th>cat9</th>\n",
              "      <th>jid</th>\n",
              "      <th>timestamp_norm</th>\n",
              "      <th>time_since_last_click_norm</th>\n",
              "      <th>cats</th>\n",
              "      <th>campaigns</th>\n",
              "      <th>campaign_count</th>\n",
              "      <th>max_timestamp</th>\n",
              "      <th>min_timestamp</th>\n",
              "      <th>time_decay_prob</th>\n",
              "    </tr>\n",
              "  </thead>\n",
              "  <tbody>\n",
              "    <tr>\n",
              "      <th>0</th>\n",
              "      <td>554012</td>\n",
              "      <td>656</td>\n",
              "      <td>27777499</td>\n",
              "      <td>1</td>\n",
              "      <td>718877</td>\n",
              "      <td>26044415</td>\n",
              "      <td>0</td>\n",
              "      <td>1</td>\n",
              "      <td>2</td>\n",
              "      <td>3</td>\n",
              "      <td>0.000168</td>\n",
              "      <td>0.095338</td>\n",
              "      <td>79309</td>\n",
              "      <td>27093701</td>\n",
              "      <td>9312274</td>\n",
              "      <td>21372185</td>\n",
              "      <td>29196072</td>\n",
              "      <td>11409686</td>\n",
              "      <td>3808271</td>\n",
              "      <td>20246687</td>\n",
              "      <td>29196072</td>\n",
              "      <td>29520629</td>\n",
              "      <td>656_26044415</td>\n",
              "      <td>0.207402</td>\n",
              "      <td>0.030598</td>\n",
              "      <td>[0.0, 0.0, 0.0, 0.0, 0.0, 0.0, 1.0, 0.0, 0.0, ...</td>\n",
              "      <td>[0.0, 0.0, 0.0, 0.0, 0.0, 0.0, 0.0, 0.0, 0.0, ...</td>\n",
              "      <td>3</td>\n",
              "      <td>0.207402</td>\n",
              "      <td>0.017110</td>\n",
              "      <td>0.600000</td>\n",
              "    </tr>\n",
              "    <tr>\n",
              "      <th>1</th>\n",
              "      <td>474703</td>\n",
              "      <td>656</td>\n",
              "      <td>27777499</td>\n",
              "      <td>1</td>\n",
              "      <td>718877</td>\n",
              "      <td>26044415</td>\n",
              "      <td>0</td>\n",
              "      <td>1</td>\n",
              "      <td>1</td>\n",
              "      <td>3</td>\n",
              "      <td>0.000314</td>\n",
              "      <td>0.095220</td>\n",
              "      <td>429000</td>\n",
              "      <td>27093701</td>\n",
              "      <td>9312274</td>\n",
              "      <td>21372185</td>\n",
              "      <td>30054645</td>\n",
              "      <td>11409686</td>\n",
              "      <td>5824238</td>\n",
              "      <td>27512348</td>\n",
              "      <td>29196072</td>\n",
              "      <td>21091111</td>\n",
              "      <td>656_26044415</td>\n",
              "      <td>0.177712</td>\n",
              "      <td>0.165510</td>\n",
              "      <td>[0.0, 0.0, 0.0, 0.0, 0.0, 0.0, 1.0, 0.0, 0.0, ...</td>\n",
              "      <td>[0.0, 0.0, 0.0, 0.0, 0.0, 0.0, 0.0, 0.0, 0.0, ...</td>\n",
              "      <td>3</td>\n",
              "      <td>0.207402</td>\n",
              "      <td>0.017110</td>\n",
              "      <td>0.073484</td>\n",
              "    </tr>\n",
              "    <tr>\n",
              "      <th>2</th>\n",
              "      <td>45703</td>\n",
              "      <td>656</td>\n",
              "      <td>27777499</td>\n",
              "      <td>1</td>\n",
              "      <td>718877</td>\n",
              "      <td>26044415</td>\n",
              "      <td>0</td>\n",
              "      <td>1</td>\n",
              "      <td>0</td>\n",
              "      <td>3</td>\n",
              "      <td>0.000334</td>\n",
              "      <td>0.075868</td>\n",
              "      <td>202860</td>\n",
              "      <td>27093701</td>\n",
              "      <td>9312274</td>\n",
              "      <td>21372185</td>\n",
              "      <td>23549932</td>\n",
              "      <td>11409686</td>\n",
              "      <td>32440041</td>\n",
              "      <td>27277949</td>\n",
              "      <td>29196072</td>\n",
              "      <td>21091108</td>\n",
              "      <td>656_26044415</td>\n",
              "      <td>0.017110</td>\n",
              "      <td>0.078264</td>\n",
              "      <td>[0.0, 0.0, 0.0, 0.0, 0.0, 0.0, 1.0, 0.0, 0.0, ...</td>\n",
              "      <td>[0.0, 0.0, 0.0, 0.0, 0.0, 0.0, 0.0, 0.0, 0.0, ...</td>\n",
              "      <td>3</td>\n",
              "      <td>0.207402</td>\n",
              "      <td>0.017110</td>\n",
              "      <td>0.297302</td>\n",
              "    </tr>\n",
              "    <tr>\n",
              "      <th>3</th>\n",
              "      <td>1617199</td>\n",
              "      <td>999</td>\n",
              "      <td>5061834</td>\n",
              "      <td>1</td>\n",
              "      <td>4103933</td>\n",
              "      <td>14996161</td>\n",
              "      <td>0</td>\n",
              "      <td>1</td>\n",
              "      <td>0</td>\n",
              "      <td>4</td>\n",
              "      <td>0.001932</td>\n",
              "      <td>0.287987</td>\n",
              "      <td>-1</td>\n",
              "      <td>30763035</td>\n",
              "      <td>9312274</td>\n",
              "      <td>28944165</td>\n",
              "      <td>29196072</td>\n",
              "      <td>26611392</td>\n",
              "      <td>29196072</td>\n",
              "      <td>5642940</td>\n",
              "      <td>29196072</td>\n",
              "      <td>29196072</td>\n",
              "      <td>999_14996161</td>\n",
              "      <td>0.605421</td>\n",
              "      <td>0.000000</td>\n",
              "      <td>[1.0, 0.0, 0.0, 0.0, 0.0, 0.0, 0.0, 0.0, 0.0, ...</td>\n",
              "      <td>[0.0, 0.0, 0.0, 0.0, 0.0, 0.0, 0.0, 0.0, 0.0, ...</td>\n",
              "      <td>3</td>\n",
              "      <td>0.802553</td>\n",
              "      <td>0.605421</td>\n",
              "      <td>0.270284</td>\n",
              "    </tr>\n",
              "    <tr>\n",
              "      <th>4</th>\n",
              "      <td>2143779</td>\n",
              "      <td>999</td>\n",
              "      <td>5061834</td>\n",
              "      <td>1</td>\n",
              "      <td>4103933</td>\n",
              "      <td>14996161</td>\n",
              "      <td>0</td>\n",
              "      <td>1</td>\n",
              "      <td>2</td>\n",
              "      <td>4</td>\n",
              "      <td>0.001035</td>\n",
              "      <td>0.310221</td>\n",
              "      <td>8415</td>\n",
              "      <td>30763035</td>\n",
              "      <td>9312274</td>\n",
              "      <td>28944165</td>\n",
              "      <td>29196072</td>\n",
              "      <td>26611392</td>\n",
              "      <td>29196072</td>\n",
              "      <td>5642940</td>\n",
              "      <td>29196072</td>\n",
              "      <td>15351056</td>\n",
              "      <td>999_14996161</td>\n",
              "      <td>0.802553</td>\n",
              "      <td>0.003247</td>\n",
              "      <td>[1.0, 0.0, 0.0, 0.0, 0.0, 0.0, 0.0, 0.0, 0.0, ...</td>\n",
              "      <td>[0.0, 0.0, 0.0, 0.0, 0.0, 0.0, 0.0, 0.0, 0.0, ...</td>\n",
              "      <td>3</td>\n",
              "      <td>0.802553</td>\n",
              "      <td>0.605421</td>\n",
              "      <td>0.600000</td>\n",
              "    </tr>\n",
              "  </tbody>\n",
              "</table>\n",
              "</div>"
            ],
            "text/plain": [
              "  timestamp  uid  campaign  ... max_timestamp min_timestamp time_decay_prob\n",
              "0    554012  656  27777499  ...      0.207402      0.017110        0.600000\n",
              "1    474703  656  27777499  ...      0.207402      0.017110        0.073484\n",
              "2     45703  656  27777499  ...      0.207402      0.017110        0.297302\n",
              "3   1617199  999   5061834  ...      0.802553      0.605421        0.270284\n",
              "4   2143779  999   5061834  ...      0.802553      0.605421        0.600000\n",
              "\n",
              "[5 rows x 31 columns]"
            ]
          },
          "metadata": {
            "tags": []
          },
          "execution_count": 83
        }
      ]
    },
    {
      "cell_type": "code",
      "metadata": {
        "id": "AEnxbqfND7PL",
        "colab_type": "code",
        "colab": {}
      },
      "source": [
        "time_decay_count=df_time_decay['campaign'].value_counts()\n",
        "time_decay_count = pd.DataFrame(time_decay_count.reset_index())\n",
        "time_decay_count.rename(columns={'index':'campaign',\n",
        "                          'campaign':'campaign_count',}, inplace=True)\n",
        "time_decay_prob_sum = df_time_decay.groupby('campaign')['time_decay_prob'].sum()\n",
        "time_decay_prob_sum = pd.DataFrame(time_decay_prob_sum)\n",
        "time_decay_prob_sum = time_decay_prob_sum.reset_index()\n",
        "time_decay_final = time_decay_prob_sum.merge(time_decay_count, on = ['campaign'], how = 'left')"
      ],
      "execution_count": 0,
      "outputs": []
    },
    {
      "cell_type": "code",
      "metadata": {
        "id": "9VIfkhZWEGcf",
        "colab_type": "code",
        "colab": {}
      },
      "source": [
        "time_decay_final['campaign_wt']  = time_decay_final['time_decay_prob'] /time_decay_final['campaign_count']"
      ],
      "execution_count": 0,
      "outputs": []
    },
    {
      "cell_type": "code",
      "metadata": {
        "id": "7HL61GSb0vt3",
        "colab_type": "code",
        "colab": {
          "base_uri": "https://localhost:8080/",
          "height": 282
        },
        "outputId": "67d5686a-054e-456d-be9e-4de6e13fc8f8"
      },
      "source": [
        "campaign_idx = range(1,20)\n",
        "\n",
        "fig = plt.figure(figsize=(15,4))\n",
        "ax = fig.add_subplot(111)\n",
        "plt.bar(range(len(time_decay_final['campaign'])), time_decay_final['campaign_wt'], label='Time_Decay' )\n",
        "plt.xlabel('Campaign ID')\n",
        "plt.ylabel('Return per impression')\n",
        "plt.legend(loc='upper left')\n",
        "plt.show()"
      ],
      "execution_count": 95,
      "outputs": [
        {
          "output_type": "display_data",
          "data": {
            "image/png": "[encoded data removed]",
            "text/plain": [
              "<Figure size 1080x288 with 1 Axes>"
            ]
          },
          "metadata": {
            "tags": []
          }
        }
      ]
    }
  ]
}